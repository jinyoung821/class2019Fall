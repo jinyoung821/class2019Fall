{
 "cells": [
  {
   "cell_type": "markdown",
   "metadata": {},
   "source": [
    "Variables"
   ]
  },
  {
   "cell_type": "code",
   "execution_count": 1,
   "metadata": {},
   "outputs": [],
   "source": [
    "a = 1     # 오른쪽에 있는 정보를 왼쪽에 있는 variable에 assign"
   ]
  },
  {
   "cell_type": "code",
   "execution_count": 2,
   "metadata": {},
   "outputs": [
    {
     "name": "stdout",
     "output_type": "stream",
     "text": [
      "1\n"
     ]
    }
   ],
   "source": [
    "print(a)"
   ]
  },
  {
   "cell_type": "code",
   "execution_count": 3,
   "metadata": {},
   "outputs": [],
   "source": [
    "a = 2     # In [1]의 함수가 사라짐"
   ]
  },
  {
   "cell_type": "code",
   "execution_count": 4,
   "metadata": {},
   "outputs": [
    {
     "name": "stdout",
     "output_type": "stream",
     "text": [
      "2\n"
     ]
    }
   ],
   "source": [
    "print(a)"
   ]
  },
  {
   "cell_type": "code",
   "execution_count": 5,
   "metadata": {},
   "outputs": [],
   "source": [
    "b = 'love'     # 문자를 assign할 때는 '' 사용"
   ]
  },
  {
   "cell_type": "code",
   "execution_count": 6,
   "metadata": {},
   "outputs": [
    {
     "name": "stdout",
     "output_type": "stream",
     "text": [
      "love\n"
     ]
    }
   ],
   "source": [
    "print(b)"
   ]
  },
  {
   "cell_type": "code",
   "execution_count": 7,
   "metadata": {},
   "outputs": [],
   "source": [
    "love = 2     # ''가 없을 때, 문자는 variable"
   ]
  },
  {
   "cell_type": "code",
   "execution_count": 8,
   "metadata": {},
   "outputs": [],
   "source": [
    "b = love"
   ]
  },
  {
   "cell_type": "code",
   "execution_count": 10,
   "metadata": {},
   "outputs": [
    {
     "name": "stdout",
     "output_type": "stream",
     "text": [
      "2\n"
     ]
    }
   ],
   "source": [
    "print(b)"
   ]
  },
  {
   "cell_type": "code",
   "execution_count": 12,
   "metadata": {},
   "outputs": [
    {
     "data": {
      "text/plain": [
       "3"
      ]
     },
     "execution_count": 12,
     "metadata": {},
     "output_type": "execute_result"
    }
   ],
   "source": [
    "a = 1\n",
    "b = 2\n",
    "b\n",
    "c = 3\n",
    "c     # 마지막에 쓴 변수를 print out"
   ]
  },
  {
   "cell_type": "code",
   "execution_count": 13,
   "metadata": {},
   "outputs": [],
   "source": [
    "a = 1; b = 2; c = 3     # ;는 enter와 똑같은 역할"
   ]
  },
  {
   "cell_type": "code",
   "execution_count": 14,
   "metadata": {},
   "outputs": [
    {
     "name": "stdout",
     "output_type": "stream",
     "text": [
      "1\n",
      "2\n",
      "3\n"
     ]
    }
   ],
   "source": [
    "print(a); print(b); print(c)"
   ]
  },
  {
   "cell_type": "code",
   "execution_count": 15,
   "metadata": {},
   "outputs": [],
   "source": [
    "a = [1, 2, 3, 5]"
   ]
  },
  {
   "cell_type": "code",
   "execution_count": 16,
   "metadata": {},
   "outputs": [
    {
     "data": {
      "text/plain": [
       "list"
      ]
     },
     "execution_count": 16,
     "metadata": {},
     "output_type": "execute_result"
    }
   ],
   "source": [
    "type(a)"
   ]
  },
  {
   "cell_type": "code",
   "execution_count": 17,
   "metadata": {},
   "outputs": [],
   "source": [
    "a = 1"
   ]
  },
  {
   "cell_type": "code",
   "execution_count": 18,
   "metadata": {},
   "outputs": [
    {
     "data": {
      "text/plain": [
       "int"
      ]
     },
     "execution_count": 18,
     "metadata": {},
     "output_type": "execute_result"
    }
   ],
   "source": [
    "type(a)"
   ]
  },
  {
   "cell_type": "code",
   "execution_count": 19,
   "metadata": {},
   "outputs": [],
   "source": [
    "a = 1.2"
   ]
  },
  {
   "cell_type": "code",
   "execution_count": 20,
   "metadata": {},
   "outputs": [
    {
     "data": {
      "text/plain": [
       "float"
      ]
     },
     "execution_count": 20,
     "metadata": {},
     "output_type": "execute_result"
    }
   ],
   "source": [
    "type(a)"
   ]
  },
  {
   "cell_type": "code",
   "execution_count": 21,
   "metadata": {},
   "outputs": [],
   "source": [
    "a = 'love'"
   ]
  },
  {
   "cell_type": "code",
   "execution_count": 22,
   "metadata": {},
   "outputs": [
    {
     "data": {
      "text/plain": [
       "str"
      ]
     },
     "execution_count": 22,
     "metadata": {},
     "output_type": "execute_result"
    }
   ],
   "source": [
    "type(a)"
   ]
  },
  {
   "cell_type": "code",
   "execution_count": 23,
   "metadata": {},
   "outputs": [],
   "source": [
    "a = [1, 2, 3, 5, 'love']"
   ]
  },
  {
   "cell_type": "code",
   "execution_count": 24,
   "metadata": {},
   "outputs": [
    {
     "data": {
      "text/plain": [
       "list"
      ]
     },
     "execution_count": 24,
     "metadata": {},
     "output_type": "execute_result"
    }
   ],
   "source": [
    "type(a)"
   ]
  },
  {
   "cell_type": "code",
   "execution_count": 25,
   "metadata": {},
   "outputs": [],
   "source": [
    "a = [1, 'love', [1, 'bye']]"
   ]
  },
  {
   "cell_type": "code",
   "execution_count": 26,
   "metadata": {},
   "outputs": [
    {
     "data": {
      "text/plain": [
       "list"
      ]
     },
     "execution_count": 26,
     "metadata": {},
     "output_type": "execute_result"
    }
   ],
   "source": [
    "type(a)"
   ]
  },
  {
   "cell_type": "code",
   "execution_count": 27,
   "metadata": {},
   "outputs": [],
   "source": [
    "a = (1, 'love', [1, 'bye'])"
   ]
  },
  {
   "cell_type": "code",
   "execution_count": 28,
   "metadata": {},
   "outputs": [
    {
     "data": {
      "text/plain": [
       "tuple"
      ]
     },
     "execution_count": 28,
     "metadata": {},
     "output_type": "execute_result"
    }
   ],
   "source": [
    "type(a)"
   ]
  },
  {
   "cell_type": "code",
   "execution_count": 29,
   "metadata": {},
   "outputs": [],
   "source": [
    "a = {'a': 'apple', 'b': 'banana'}     # '표제어': '설명'"
   ]
  },
  {
   "cell_type": "code",
   "execution_count": 30,
   "metadata": {},
   "outputs": [
    {
     "data": {
      "text/plain": [
       "dict"
      ]
     },
     "execution_count": 30,
     "metadata": {},
     "output_type": "execute_result"
    }
   ],
   "source": [
    "type(a)"
   ]
  },
  {
   "cell_type": "code",
   "execution_count": 31,
   "metadata": {},
   "outputs": [],
   "source": [
    "a = 1\n",
    "b = 1\n",
    "c = a + b"
   ]
  },
  {
   "cell_type": "code",
   "execution_count": 32,
   "metadata": {},
   "outputs": [
    {
     "name": "stdout",
     "output_type": "stream",
     "text": [
      "2\n"
     ]
    }
   ],
   "source": [
    "print(c)"
   ]
  },
  {
   "cell_type": "code",
   "execution_count": 33,
   "metadata": {},
   "outputs": [],
   "source": [
    "a = [1, 2]\n",
    "b = [3, 4]\n",
    "c = a[0] + b[0]     # list에서 첫번째 항목은 [0], list에서 partial information을 가져올 때는 []사용"
   ]
  },
  {
   "cell_type": "code",
   "execution_count": 34,
   "metadata": {},
   "outputs": [
    {
     "name": "stdout",
     "output_type": "stream",
     "text": [
      "4\n"
     ]
    }
   ],
   "source": [
    "print(c)"
   ]
  },
  {
   "cell_type": "code",
   "execution_count": 35,
   "metadata": {},
   "outputs": [
    {
     "name": "stdout",
     "output_type": "stream",
     "text": [
      "<class 'float'>\n"
     ]
    }
   ],
   "source": [
    "a = 1; a = float(a); print(type(a))"
   ]
  },
  {
   "cell_type": "code",
   "execution_count": 37,
   "metadata": {},
   "outputs": [
    {
     "name": "stdout",
     "output_type": "stream",
     "text": [
      "1.0\n"
     ]
    }
   ],
   "source": [
    "print(a)"
   ]
  },
  {
   "cell_type": "code",
   "execution_count": 39,
   "metadata": {},
   "outputs": [
    {
     "name": "stdout",
     "output_type": "stream",
     "text": [
      "<class 'int'>\n"
     ]
    }
   ],
   "source": [
    "a = 1.2; a = int(a); print(type(a))"
   ]
  },
  {
   "cell_type": "code",
   "execution_count": 40,
   "metadata": {},
   "outputs": [
    {
     "name": "stdout",
     "output_type": "stream",
     "text": [
      "1\n"
     ]
    }
   ],
   "source": [
    "print(a)"
   ]
  },
  {
   "cell_type": "code",
   "execution_count": 44,
   "metadata": {},
   "outputs": [
    {
     "name": "stdout",
     "output_type": "stream",
     "text": [
      "<class 'str'>\n",
      "2\n"
     ]
    }
   ],
   "source": [
    "a = '123'; print(type(a)); print(a[1])"
   ]
  },
  {
   "cell_type": "code",
   "execution_count": 45,
   "metadata": {},
   "outputs": [
    {
     "name": "stdout",
     "output_type": "stream",
     "text": [
      "<class 'list'>\n",
      "['1', '2', '3']\n",
      "3\n"
     ]
    }
   ],
   "source": [
    "a = '123'; a = list(a); print(type(a)); print(a); print(a[2])"
   ]
  },
  {
   "cell_type": "code",
   "execution_count": 47,
   "metadata": {},
   "outputs": [
    {
     "name": "stdout",
     "output_type": "stream",
     "text": [
      "<class 'list'>\n",
      "1\n",
      "2\n",
      "[3, '4']\n"
     ]
    }
   ],
   "source": [
    "a = [1, '2', [3, '4']]; print(type(a)); print(a[0]); print(a[1]); print(a[2])"
   ]
  },
  {
   "cell_type": "code",
   "execution_count": 48,
   "metadata": {},
   "outputs": [
    {
     "name": "stdout",
     "output_type": "stream",
     "text": [
      "<class 'dict'>\n",
      "apple\n"
     ]
    }
   ],
   "source": [
    "a = {\"a\": \"apple\", \"b\": \"orange\", \"c\": 2014}\n",
    "print(type(a))\n",
    "print(a[\"a\"])     #dict의 정보를 access할 때는 표제어를 index로 사용"
   ]
  },
  {
   "cell_type": "code",
   "execution_count": 49,
   "metadata": {},
   "outputs": [
    {
     "name": "stdout",
     "output_type": "stream",
     "text": [
      "<class 'dict'>\n",
      "apple\n"
     ]
    }
   ],
   "source": [
    "a = {1: \"apple\", \"b\": \"orange\", \"c\": 2014}\n",
    "print(type(a))\n",
    "print(a[1])     #int도 dict의 표제어가 될 수 있음"
   ]
  },
  {
   "cell_type": "code",
   "execution_count": 50,
   "metadata": {},
   "outputs": [
    {
     "name": "stdout",
     "output_type": "stream",
     "text": [
      "(1, 2, 3)\n"
     ]
    }
   ],
   "source": [
    "a = [(1, 2, 3), (3, 8, 0)]\n",
    "print(a[0])"
   ]
  },
  {
   "cell_type": "code",
   "execution_count": 52,
   "metadata": {},
   "outputs": [
    {
     "data": {
      "text/plain": [
       "tuple"
      ]
     },
     "execution_count": 52,
     "metadata": {},
     "output_type": "execute_result"
    }
   ],
   "source": [
    "type(a[0])"
   ]
  },
  {
   "cell_type": "markdown",
   "metadata": {},
   "source": [
    "String"
   ]
  },
  {
   "cell_type": "code",
   "execution_count": 54,
   "metadata": {},
   "outputs": [
    {
     "name": "stdout",
     "output_type": "stream",
     "text": [
      "a f f a\n",
      "bc bcdef abc abcdef\n"
     ]
    }
   ],
   "source": [
    "s = 'abcdef'\n",
    "print(s[0], s[5], s[-1], s[-6])     # string의 첫번째 항목인 [0]을 기준으로 [-1]은 가장 마지막 항목\n",
    "print(s[1:3], s[1:], s[:3], s[:])     #[a:b]는 a번째 항목부터 b번째 직전 항목까지"
   ]
  },
  {
   "cell_type": "code",
   "execution_count": 55,
   "metadata": {},
   "outputs": [
    {
     "name": "stdout",
     "output_type": "stream",
     "text": [
      "100 300 300 100\n",
      "[200] [200, 300] [100, 200] [100, 200, 300]\n"
     ]
    }
   ],
   "source": [
    "n = [100, 200, 300]     # 정보를 access하는 방법은 string과 비슷함\n",
    "print(n[0], n[2], n[-1], n[-3])\n",
    "print(n[1:2], n[1:], n[:2], n[:])"
   ]
  },
  {
   "cell_type": "code",
   "execution_count": 56,
   "metadata": {},
   "outputs": [
    {
     "data": {
      "text/plain": [
       "6"
      ]
     },
     "execution_count": 56,
     "metadata": {},
     "output_type": "execute_result"
    }
   ],
   "source": [
    "len(s)     # variable의 정보의 갯수"
   ]
  },
  {
   "cell_type": "code",
   "execution_count": 57,
   "metadata": {},
   "outputs": [
    {
     "data": {
      "text/plain": [
       "'bdefefefefefefefefefef'"
      ]
     },
     "execution_count": 57,
     "metadata": {},
     "output_type": "execute_result"
    }
   ],
   "source": [
    "s[1] + s[3] + s[4:]*10"
   ]
  },
  {
   "cell_type": "code",
   "execution_count": 58,
   "metadata": {},
   "outputs": [
    {
     "data": {
      "text/plain": [
       "'ABCDEF'"
      ]
     },
     "execution_count": 58,
     "metadata": {},
     "output_type": "execute_result"
    }
   ],
   "source": [
    "s.upper()"
   ]
  },
  {
   "cell_type": "code",
   "execution_count": 59,
   "metadata": {},
   "outputs": [],
   "source": [
    "s = ' this is a house built this year.\\n'"
   ]
  },
  {
   "cell_type": "code",
   "execution_count": 60,
   "metadata": {},
   "outputs": [
    {
     "data": {
      "text/plain": [
       "11"
      ]
     },
     "execution_count": 60,
     "metadata": {},
     "output_type": "execute_result"
    }
   ],
   "source": [
    "result = s.find('house')\n",
    "result     # 11번째에서 시작함"
   ]
  },
  {
   "cell_type": "code",
   "execution_count": 61,
   "metadata": {},
   "outputs": [
    {
     "data": {
      "text/plain": [
       "1"
      ]
     },
     "execution_count": 61,
     "metadata": {},
     "output_type": "execute_result"
    }
   ],
   "source": [
    "result = s.find('this')\n",
    "result     # 첫번째 this는 1번째에서 시작함"
   ]
  },
  {
   "cell_type": "code",
   "execution_count": 62,
   "metadata": {},
   "outputs": [
    {
     "data": {
      "text/plain": [
       "23"
      ]
     },
     "execution_count": 62,
     "metadata": {},
     "output_type": "execute_result"
    }
   ],
   "source": [
    "result = s.rindex('this')\n",
    "result     # 마지막 this는 23번째에서 시작함"
   ]
  },
  {
   "cell_type": "code",
   "execution_count": 67,
   "metadata": {},
   "outputs": [
    {
     "data": {
      "text/plain": [
       "'this is a house built this year.'"
      ]
     },
     "execution_count": 67,
     "metadata": {},
     "output_type": "execute_result"
    }
   ],
   "source": [
    "s = s.strip()\n",
    "s     # 순수한 text만 남김"
   ]
  },
  {
   "cell_type": "code",
   "execution_count": 68,
   "metadata": {},
   "outputs": [
    {
     "data": {
      "text/plain": [
       "['this', 'is', 'a', 'house', 'built', 'this', 'year.']"
      ]
     },
     "execution_count": 68,
     "metadata": {},
     "output_type": "execute_result"
    }
   ],
   "source": [
    "tokens = s.split(' ')     # s를 ' (space)'를 기준으로 자름\n",
    "tokens"
   ]
  },
  {
   "cell_type": "code",
   "execution_count": 69,
   "metadata": {},
   "outputs": [
    {
     "data": {
      "text/plain": [
       "'this is a house built this year.'"
      ]
     },
     "execution_count": 69,
     "metadata": {},
     "output_type": "execute_result"
    }
   ],
   "source": [
    "s = ' '.join(tokens)     #' (space)'를 이용해서 tokens의 list를 붙임\n",
    "s"
   ]
  },
  {
   "cell_type": "code",
   "execution_count": 70,
   "metadata": {},
   "outputs": [
    {
     "data": {
      "text/plain": [
       "'that is a house built that year.'"
      ]
     },
     "execution_count": 70,
     "metadata": {},
     "output_type": "execute_result"
    }
   ],
   "source": [
    "s = s.replace('this', 'that')     # 모든 'this'를 'that'으로 바꿈\n",
    "s"
   ]
  },
  {
   "cell_type": "markdown",
   "metadata": {},
   "source": [
    "Syntax"
   ]
  },
  {
   "cell_type": "code",
   "execution_count": 71,
   "metadata": {},
   "outputs": [
    {
     "name": "stdout",
     "output_type": "stream",
     "text": [
      "1\n",
      "2\n",
      "3\n",
      "4\n"
     ]
    }
   ],
   "source": [
    "a = [1, 2, 3, 4]\n",
    "for i in a:     # a를 하나씩 돌려서 i에 할당함\n",
    "    print(i)     #'for' loop에는 꼭 indent가 되어있어야함"
   ]
  },
  {
   "cell_type": "code",
   "execution_count": 73,
   "metadata": {},
   "outputs": [
    {
     "name": "stdout",
     "output_type": "stream",
     "text": [
      "1\n",
      "2\n",
      "3\n",
      "4\n"
     ]
    }
   ],
   "source": [
    "a = [1, 2, 3, 4]\n",
    "for i in range(len(a)):     #range(n)은 0부터 n-1까지의 list를 만듦\n",
    "    print(a[i])"
   ]
  },
  {
   "cell_type": "code",
   "execution_count": 74,
   "metadata": {},
   "outputs": [
    {
     "name": "stdout",
     "output_type": "stream",
     "text": [
      "red\n",
      "green\n",
      "blue\n",
      "purple\n"
     ]
    }
   ],
   "source": [
    "a = ['red', 'green', 'blue', 'purple']\n",
    "print(a[0])\n",
    "print(a[1])\n",
    "print(a[2])\n",
    "print(a[3])     # 항목의 개수가 많아지면 하나씩 print out을 할 수 없기 때문에 'for' loop 사용"
   ]
  },
  {
   "cell_type": "code",
   "execution_count": 75,
   "metadata": {},
   "outputs": [
    {
     "name": "stdout",
     "output_type": "stream",
     "text": [
      "red\n",
      "green\n",
      "blue\n",
      "purple\n"
     ]
    }
   ],
   "source": [
    "a = ['red', 'green', 'blue', 'purple']\n",
    "for s in a:\n",
    "    print(s)"
   ]
  },
  {
   "cell_type": "code",
   "execution_count": 77,
   "metadata": {},
   "outputs": [
    {
     "name": "stdout",
     "output_type": "stream",
     "text": [
      "red\n",
      "green\n",
      "blue\n",
      "purple\n"
     ]
    }
   ],
   "source": [
    "a = ['red', 'green', 'blue', 'purple']\n",
    "for s in range(len(a)):\n",
    "    print(a[s])"
   ]
  },
  {
   "cell_type": "code",
   "execution_count": 78,
   "metadata": {},
   "outputs": [
    {
     "name": "stdout",
     "output_type": "stream",
     "text": [
      "red: 20.0%\n",
      "green: 30.0%\n",
      "blue: 10.0%\n",
      "purple: 40.0%\n"
     ]
    }
   ],
   "source": [
    "a = ['red', 'green', 'blue', 'purple']\n",
    "b = [0.2, 0.3, 0.1, 0.4]\n",
    "for i, s in enumerate(a):     # enumerate\n",
    "    print(\"{}: {}%\".format(s, b[i]*100))"
   ]
  },
  {
   "cell_type": "code",
   "execution_count": 80,
   "metadata": {},
   "outputs": [
    {
     "name": "stdout",
     "output_type": "stream",
     "text": [
      "red: 20.0%\n",
      "green: 30.0%\n",
      "blue: 10.0%\n",
      "purple: 40.0%\n"
     ]
    }
   ],
   "source": [
    "a = ['red', 'green', 'blue', 'purple']\n",
    "b = [0.2, 0.3, 0.1, 0.4]\n",
    "for i, s in zip(a, b):\n",
    "        print(\"{}: {}%\".format(i, s*100))"
   ]
  },
  {
   "cell_type": "code",
   "execution_count": 81,
   "metadata": {},
   "outputs": [
    {
     "name": "stdout",
     "output_type": "stream",
     "text": [
      "yay\n"
     ]
    }
   ],
   "source": [
    "a = 0\n",
    "if a == 0:     # =는 assign / ==는 =\n",
    "    print('yay')"
   ]
  },
  {
   "cell_type": "code",
   "execution_count": 82,
   "metadata": {},
   "outputs": [],
   "source": [
    "a = 0\n",
    "if a != 0:     #!=는 ≠\n",
    "    print(\"yay\")     #print out X"
   ]
  },
  {
   "cell_type": "code",
   "execution_count": 83,
   "metadata": {},
   "outputs": [
    {
     "name": "stdout",
     "output_type": "stream",
     "text": [
      "yay\n",
      "let's go\n"
     ]
    }
   ],
   "source": [
    "a = 0\n",
    "if a == 0:\n",
    "    print(\"yay\")\n",
    "    print(\"let's go\")     #여러개 print out 가능"
   ]
  },
  {
   "cell_type": "code",
   "execution_count": 84,
   "metadata": {},
   "outputs": [
    {
     "name": "stdout",
     "output_type": "stream",
     "text": [
      "yay\n"
     ]
    }
   ],
   "source": [
    "a = 0\n",
    "if a >= 0:\n",
    "    print(\"yay\")"
   ]
  },
  {
   "cell_type": "code",
   "execution_count": 85,
   "metadata": {},
   "outputs": [
    {
     "name": "stdout",
     "output_type": "stream",
     "text": [
      "no\n"
     ]
    }
   ],
   "source": [
    "a = 0\n",
    "if a != 0:\n",
    "    print(\"yay\")\n",
    "else:     # if를 제외한 다른 경우\n",
    "    print(\"no\")"
   ]
  },
  {
   "cell_type": "code",
   "execution_count": 86,
   "metadata": {},
   "outputs": [
    {
     "name": "stdout",
     "output_type": "stream",
     "text": [
      "3\n",
      "4\n",
      "6\n",
      "8\n"
     ]
    }
   ],
   "source": [
    "for i in range(1, 3):\n",
    "    for j in range(3, 5):     # range(a, b)는 a부터 b-1까지\n",
    "        print(i*j)     # 4번 loop"
   ]
  },
  {
   "cell_type": "code",
   "execution_count": 87,
   "metadata": {},
   "outputs": [
    {
     "name": "stdout",
     "output_type": "stream",
     "text": [
      "4\n",
      "8\n"
     ]
    }
   ],
   "source": [
    "for i in range(1, 3):\n",
    "    for j in range(3, 5):\n",
    "        if j >= 4:     # j가 4보다 같거나 큰 경우에만 실행\n",
    "            print (i*j)     # 2번 loop"
   ]
  },
  {
   "cell_type": "code",
   "execution_count": 88,
   "metadata": {},
   "outputs": [],
   "source": [
    "for i in range(1, 3):\n",
    "    if i >= 3:\n",
    "        for j in range(3, 5):\n",
    "            print(i*j)     # 만족하는 조건이 없기 때문에 print out X"
   ]
  },
  {
   "cell_type": "markdown",
   "metadata": {},
   "source": [
    "Numpy _ Creation"
   ]
  },
  {
   "cell_type": "code",
   "execution_count": 2,
   "metadata": {},
   "outputs": [
    {
     "data": {
      "text/plain": [
       "[1, 3, 5, 2, 4, 6]"
      ]
     },
     "execution_count": 2,
     "metadata": {},
     "output_type": "execute_result"
    }
   ],
   "source": [
    "a = [1, 3, 5]\n",
    "b = [2, 4, 6]\n",
    "c = a + b\n",
    "c"
   ]
  },
  {
   "cell_type": "code",
   "execution_count": 3,
   "metadata": {},
   "outputs": [],
   "source": [
    "import numpy"
   ]
  },
  {
   "cell_type": "code",
   "execution_count": 4,
   "metadata": {},
   "outputs": [],
   "source": [
    "A = numpy.array(a)\n",
    "B = numpy.array(b)     # array는 list 상에서 계산이 불가능한 것을 계산 가능하게 만듦"
   ]
  },
  {
   "cell_type": "code",
   "execution_count": 5,
   "metadata": {},
   "outputs": [
    {
     "data": {
      "text/plain": [
       "array([ 3,  7, 11])"
      ]
     },
     "execution_count": 5,
     "metadata": {},
     "output_type": "execute_result"
    }
   ],
   "source": [
    "A + B"
   ]
  },
  {
   "cell_type": "code",
   "execution_count": 6,
   "metadata": {},
   "outputs": [
    {
     "data": {
      "text/plain": [
       "numpy.ndarray"
      ]
     },
     "execution_count": 6,
     "metadata": {},
     "output_type": "execute_result"
    }
   ],
   "source": [
    "type(A)"
   ]
  },
  {
   "cell_type": "code",
   "execution_count": 7,
   "metadata": {},
   "outputs": [],
   "source": [
    "import numpy as np     # numpy를 np로 축약해서 사용"
   ]
  },
  {
   "cell_type": "code",
   "execution_count": 8,
   "metadata": {},
   "outputs": [
    {
     "data": {
      "text/plain": [
       "array([ 3,  7, 11])"
      ]
     },
     "execution_count": 8,
     "metadata": {},
     "output_type": "execute_result"
    }
   ],
   "source": [
    "A = np.array(a)\n",
    "B = np.array(b)\n",
    "A + B"
   ]
  },
  {
   "cell_type": "code",
   "execution_count": 1,
   "metadata": {},
   "outputs": [],
   "source": [
    "import numpy as np\n",
    "import matplotlib.pyplot as plt"
   ]
  },
  {
   "cell_type": "code",
   "execution_count": 2,
   "metadata": {},
   "outputs": [
    {
     "data": {
      "text/plain": [
       "array([[         0, 1072168960,          0],\n",
       "       [1072168960,          0,          0]])"
      ]
     },
     "execution_count": 2,
     "metadata": {},
     "output_type": "execute_result"
    }
   ],
   "source": [
    "np.empty([2,3], dtype = 'int')     # 2행 3열로 int의 type으로 만듦 (random한 숫자)"
   ]
  },
  {
   "cell_type": "code",
   "execution_count": 3,
   "metadata": {},
   "outputs": [
    {
     "data": {
      "text/plain": [
       "array([[0., 0., 0.],\n",
       "       [0., 0., 0.]])"
      ]
     },
     "execution_count": 3,
     "metadata": {},
     "output_type": "execute_result"
    }
   ],
   "source": [
    "np.zeros([2,3])     # 2행 3열로 0으로 채워진 array를 만듦"
   ]
  },
  {
   "cell_type": "code",
   "execution_count": 4,
   "metadata": {},
   "outputs": [
    {
     "data": {
      "text/plain": [
       "array([[0, 0, 0],\n",
       "       [0, 0, 0]])"
      ]
     },
     "execution_count": 4,
     "metadata": {},
     "output_type": "execute_result"
    }
   ],
   "source": [
    "np.array([[0, 0, 0], [0, 0, 0]])     # list를 계산 가능한 array로 바꿈"
   ]
  },
  {
   "cell_type": "code",
   "execution_count": 5,
   "metadata": {},
   "outputs": [
    {
     "data": {
      "text/plain": [
       "array([[1., 1., 1.],\n",
       "       [1., 1., 1.]])"
      ]
     },
     "execution_count": 5,
     "metadata": {},
     "output_type": "execute_result"
    }
   ],
   "source": [
    "np.ones([2,3])     # 2행 3열로 1로 채워진 array를 만듦 (default data type은 float임)"
   ]
  },
  {
   "cell_type": "code",
   "execution_count": 8,
   "metadata": {
    "scrolled": true
   },
   "outputs": [
    {
     "data": {
      "text/plain": [
       "array([[1, 1, 1],\n",
       "       [1, 1, 1]])"
      ]
     },
     "execution_count": 8,
     "metadata": {},
     "output_type": "execute_result"
    }
   ],
   "source": [
    "np.ones([2,3], dtype = 'int')     # default data type을 int로 바꿈"
   ]
  },
  {
   "cell_type": "code",
   "execution_count": 9,
   "metadata": {},
   "outputs": [
    {
     "data": {
      "text/plain": [
       "array([0, 1, 2, 3, 4])"
      ]
     },
     "execution_count": 9,
     "metadata": {},
     "output_type": "execute_result"
    }
   ],
   "source": [
    "np.arange(5)     # 0부터 5 전까지의 array"
   ]
  },
  {
   "cell_type": "code",
   "execution_count": 10,
   "metadata": {},
   "outputs": [
    {
     "data": {
      "text/plain": [
       "array([0, 1, 2, 3, 4, 5, 6, 7, 8, 9])"
      ]
     },
     "execution_count": 10,
     "metadata": {},
     "output_type": "execute_result"
    }
   ],
   "source": [
    "np.arange(0,10)     # 0부터 10 전까지의 array"
   ]
  },
  {
   "cell_type": "code",
   "execution_count": 11,
   "metadata": {},
   "outputs": [
    {
     "data": {
      "text/plain": [
       "array([0, 2, 4, 6, 8])"
      ]
     },
     "execution_count": 11,
     "metadata": {},
     "output_type": "execute_result"
    }
   ],
   "source": [
    "np.arange(0,10,2)     # 0부터 10 전까지 2의 간격으로 나열"
   ]
  },
  {
   "cell_type": "code",
   "execution_count": 12,
   "metadata": {},
   "outputs": [
    {
     "data": {
      "text/plain": [
       "array([ 0.,  2.,  4.,  6.,  8., 10.])"
      ]
     },
     "execution_count": 12,
     "metadata": {},
     "output_type": "execute_result"
    }
   ],
   "source": [
    "np.linspace(0,10,6)     # 0부터 10까지를 6개로 나눔"
   ]
  },
  {
   "cell_type": "code",
   "execution_count": 13,
   "metadata": {},
   "outputs": [
    {
     "data": {
      "text/plain": [
       "array([ 0.        ,  1.66666667,  3.33333333,  5.        ,  6.66666667,\n",
       "        8.33333333, 10.        ])"
      ]
     },
     "execution_count": 13,
     "metadata": {},
     "output_type": "execute_result"
    }
   ],
   "source": [
    "np.linspace(0,10,7)"
   ]
  },
  {
   "cell_type": "code",
   "execution_count": 15,
   "metadata": {},
   "outputs": [
    {
     "data": {
      "text/plain": [
       "array([1, 2, 3])"
      ]
     },
     "execution_count": 15,
     "metadata": {},
     "output_type": "execute_result"
    }
   ],
   "source": [
    "X = np.array([1, 2, 3])\n",
    "X     # list에서 벡터로 만듦"
   ]
  },
  {
   "cell_type": "code",
   "execution_count": 17,
   "metadata": {},
   "outputs": [
    {
     "data": {
      "text/plain": [
       "array([[1, 2, 3],\n",
       "       [4, 5, 6]])"
      ]
     },
     "execution_count": 17,
     "metadata": {},
     "output_type": "execute_result"
    }
   ],
   "source": [
    "X = np.array([[1, 2, 3], [4, 5, 6]])\n",
    "X     # (2,3)의 array로 만듦 (2차원)"
   ]
  },
  {
   "cell_type": "code",
   "execution_count": 18,
   "metadata": {},
   "outputs": [
    {
     "data": {
      "text/plain": [
       "array([[1, 2],\n",
       "       [3, 4],\n",
       "       [5, 6]])"
      ]
     },
     "execution_count": 18,
     "metadata": {},
     "output_type": "execute_result"
    }
   ],
   "source": [
    "X = np.array([[1, 2], [3, 4], [5, 6]])\n",
    "X     # (3,2)의 array로 만듦 (2차원)"
   ]
  },
  {
   "cell_type": "code",
   "execution_count": 19,
   "metadata": {},
   "outputs": [
    {
     "data": {
      "text/plain": [
       "array([[[1, 2],\n",
       "        [3, 4],\n",
       "        [5, 6]],\n",
       "\n",
       "       [[1, 2],\n",
       "        [3, 4],\n",
       "        [5, 6]]])"
      ]
     },
     "execution_count": 19,
     "metadata": {},
     "output_type": "execute_result"
    }
   ],
   "source": [
    "X = np.array([[[1, 2], [3, 4], [5, 6]], [[1, 2], [3, 4], [5, 6]]])\n",
    "X     # (2,3,2)의 array로 만듦 (3차원)"
   ]
  },
  {
   "cell_type": "code",
   "execution_count": 20,
   "metadata": {},
   "outputs": [
    {
     "data": {
      "text/plain": [
       "(2, 3, 2)"
      ]
     },
     "execution_count": 20,
     "metadata": {},
     "output_type": "execute_result"
    }
   ],
   "source": [
    "X.shape"
   ]
  },
  {
   "cell_type": "code",
   "execution_count": 21,
   "metadata": {},
   "outputs": [
    {
     "data": {
      "text/plain": [
       "3"
      ]
     },
     "execution_count": 21,
     "metadata": {},
     "output_type": "execute_result"
    }
   ],
   "source": [
    "X.ndim     # 3차원(대괄호의 개수에 따라 결정됨)"
   ]
  },
  {
   "cell_type": "code",
   "execution_count": 22,
   "metadata": {},
   "outputs": [
    {
     "data": {
      "text/plain": [
       "dtype('int32')"
      ]
     },
     "execution_count": 22,
     "metadata": {},
     "output_type": "execute_result"
    }
   ],
   "source": [
    "X.dtype"
   ]
  },
  {
   "cell_type": "code",
   "execution_count": 24,
   "metadata": {},
   "outputs": [
    {
     "data": {
      "text/plain": [
       "array([[[1., 2.],\n",
       "        [3., 4.],\n",
       "        [5., 6.]],\n",
       "\n",
       "       [[1., 2.],\n",
       "        [3., 4.],\n",
       "        [5., 6.]]])"
      ]
     },
     "execution_count": 24,
     "metadata": {},
     "output_type": "execute_result"
    }
   ],
   "source": [
    "X.astype(np.float64)     # data type을 float64로 바꿈"
   ]
  },
  {
   "cell_type": "code",
   "execution_count": 25,
   "metadata": {},
   "outputs": [
    {
     "data": {
      "text/plain": [
       "array([[[0, 0],\n",
       "        [0, 0],\n",
       "        [0, 0]],\n",
       "\n",
       "       [[0, 0],\n",
       "        [0, 0],\n",
       "        [0, 0]]])"
      ]
     },
     "execution_count": 25,
     "metadata": {},
     "output_type": "execute_result"
    }
   ],
   "source": [
    "np.zeros_like(X)     # X의 형태를 유지한채 0으로 바꿈"
   ]
  },
  {
   "cell_type": "code",
   "execution_count": 26,
   "metadata": {},
   "outputs": [
    {
     "data": {
      "text/plain": [
       "array([[[0, 0],\n",
       "        [0, 0],\n",
       "        [0, 0]],\n",
       "\n",
       "       [[0, 0],\n",
       "        [0, 0],\n",
       "        [0, 0]]])"
      ]
     },
     "execution_count": 26,
     "metadata": {},
     "output_type": "execute_result"
    }
   ],
   "source": [
    "X*0     # 계산이 가능하므로 0을 곱하면 np.zeros_like(X)와 결과가 같음"
   ]
  },
  {
   "cell_type": "code",
   "execution_count": 27,
   "metadata": {},
   "outputs": [
    {
     "name": "stdout",
     "output_type": "stream",
     "text": [
      "[-1.80148469  0.21288451  0.30374799 -0.31128478  0.6473273  -0.85491176\n",
      " -1.30501084 -1.58201965 -0.468527    1.33907827 -0.85151788  1.86630356\n",
      "  0.8876992   1.02279324  1.38769565 -0.43640997 -1.47352918 -0.53936164\n",
      " -3.09867767 -1.12860744 -2.13925035 -0.2526109   0.78624089  0.56193453\n",
      "  0.4740469  -0.64329648 -2.47734426  1.42615306  0.79428305  0.91604378\n",
      "  0.65519397  0.50581876 -1.16250015 -1.24838511 -2.64858466 -0.93921321\n",
      " -0.0103928   1.00643607 -0.95153321 -0.67906801 -0.11834712 -0.77679192\n",
      " -0.98756654 -2.32680223  0.06146894  1.44970156  0.91158042  0.19069918\n",
      "  1.29097299  0.87259278 -0.85601477 -0.77103292  2.02146032  0.45240994\n",
      " -0.01280734 -0.16582719  0.07400258  0.87201371 -0.33043469 -0.32686281\n",
      " -1.23913797 -1.13418064 -0.16958919  0.01280663 -0.33703382  0.08071566\n",
      "  0.01266907  2.44918835 -0.80182702 -1.56251667  0.48321501 -0.009889\n",
      "  0.44627158 -0.40742801 -0.68890321  0.56260268 -0.86407392 -0.57666294\n",
      "  0.93162032  1.1620921   1.19630507  0.69670953 -0.48126385  0.52089887\n",
      " -1.24293895 -0.63645655 -0.67389051  0.12224075 -0.4006841  -0.56443559\n",
      "  0.71557136 -0.54352236  0.55032491 -0.12434035  0.69515731  0.8789248\n",
      "  0.1528248  -0.2804924  -0.47689397 -1.92511239]\n"
     ]
    }
   ],
   "source": [
    "data = np.random.normal(0,1,100)     # normal distribution을 만듦 (평균 0, 표준편차 1의 100개의 데이터)\n",
    "print(data)"
   ]
  },
  {
   "cell_type": "code",
   "execution_count": 28,
   "metadata": {},
   "outputs": [
    {
     "data": {
      "text/plain": [
       "1"
      ]
     },
     "execution_count": 28,
     "metadata": {},
     "output_type": "execute_result"
    }
   ],
   "source": [
    "data.ndim     # data는 1차원"
   ]
  },
  {
   "cell_type": "code",
   "execution_count": 29,
   "metadata": {},
   "outputs": [
    {
     "data": {
      "text/plain": [
       "(100,)"
      ]
     },
     "execution_count": 29,
     "metadata": {},
     "output_type": "execute_result"
    }
   ],
   "source": [
    "data.shape     # data의 개수는 100개"
   ]
  },
  {
   "cell_type": "code",
   "execution_count": 30,
   "metadata": {},
   "outputs": [
    {
     "data": {
      "image/png": "[encoded data removed]",
      "text/plain": [
       "<Figure size 432x288 with 1 Axes>"
      ]
     },
     "metadata": {
      "needs_background": "light"
     },
     "output_type": "display_data"
    }
   ],
   "source": [
    "plt.hist(data, bins = 10)     # data를 10개의 도수로 이루어진 히스토그램으로 표현\n",
    "plt.show()"
   ]
  },
  {
   "cell_type": "markdown",
   "metadata": {},
   "source": [
    "Numpy _ Manipulation"
   ]
  },
  {
   "cell_type": "code",
   "execution_count": 31,
   "metadata": {},
   "outputs": [
    {
     "data": {
      "text/plain": [
       "array([[[1., 1., 1., 1.],\n",
       "        [1., 1., 1., 1.],\n",
       "        [1., 1., 1., 1.]],\n",
       "\n",
       "       [[1., 1., 1., 1.],\n",
       "        [1., 1., 1., 1.],\n",
       "        [1., 1., 1., 1.]]])"
      ]
     },
     "execution_count": 31,
     "metadata": {},
     "output_type": "execute_result"
    }
   ],
   "source": [
    "X = np.ones([2,3,4])\n",
    "X"
   ]
  },
  {
   "cell_type": "code",
   "execution_count": 32,
   "metadata": {},
   "outputs": [
    {
     "data": {
      "text/plain": [
       "array([[[1., 1.],\n",
       "        [1., 1.],\n",
       "        [1., 1.]],\n",
       "\n",
       "       [[1., 1.],\n",
       "        [1., 1.],\n",
       "        [1., 1.]],\n",
       "\n",
       "       [[1., 1.],\n",
       "        [1., 1.],\n",
       "        [1., 1.]],\n",
       "\n",
       "       [[1., 1.],\n",
       "        [1., 1.],\n",
       "        [1., 1.]]])"
      ]
     },
     "execution_count": 32,
     "metadata": {},
     "output_type": "execute_result"
    }
   ],
   "source": [
    "Y = X.reshape(-1,3,2)     # shape을 바꾸더라도 element의 개수는 같아야함 / -1은 자동으로 계산되는 값\n",
    "Y"
   ]
  },
  {
   "cell_type": "code",
   "execution_count": 33,
   "metadata": {},
   "outputs": [
    {
     "data": {
      "text/plain": [
       "True"
      ]
     },
     "execution_count": 33,
     "metadata": {},
     "output_type": "execute_result"
    }
   ],
   "source": [
    "np.allclose(X.reshape(-1,3,2), Y)     # 2개의 array가 같은지 비교"
   ]
  },
  {
   "cell_type": "markdown",
   "metadata": {},
   "source": [
    "Numpy _ I/O"
   ]
  },
  {
   "cell_type": "code",
   "execution_count": 43,
   "metadata": {},
   "outputs": [
    {
     "data": {
      "text/plain": [
       "array([[5, 9, 4],\n",
       "       [0, 7, 9]])"
      ]
     },
     "execution_count": 43,
     "metadata": {},
     "output_type": "execute_result"
    }
   ],
   "source": [
    "a = np.random.randint(0,10, [2,3])     # 0부터 10 전까지 int 주에 [2,3]의 array를 만듦\n",
    "a"
   ]
  },
  {
   "cell_type": "code",
   "execution_count": 44,
   "metadata": {},
   "outputs": [
    {
     "data": {
      "text/plain": [
       "array([[0.22850457, 0.31088358, 0.09019176],\n",
       "       [0.27396665, 0.87694863, 0.41176457]])"
      ]
     },
     "execution_count": 44,
     "metadata": {},
     "output_type": "execute_result"
    }
   ],
   "source": [
    "b = np.random.random([2,3])     # [2,3]으로 random한 array를 만듦\n",
    "b"
   ]
  },
  {
   "cell_type": "code",
   "execution_count": 45,
   "metadata": {},
   "outputs": [],
   "source": [
    "np.savez(\"test\", a, b)     # a, b의 variable을 \"test\"라는 파일로 만듦"
   ]
  },
  {
   "cell_type": "code",
   "execution_count": 46,
   "metadata": {},
   "outputs": [],
   "source": [
    "del a, b     # variable이 assign이 되지 않은 상태로 사라짐"
   ]
  },
  {
   "cell_type": "code",
   "execution_count": 47,
   "metadata": {},
   "outputs": [
    {
     "name": "stdout",
     "output_type": "stream",
     "text": [
      "X\t Y\t data\t np\t plt\t \n"
     ]
    }
   ],
   "source": [
    "who     # 지금 available한 data가 무엇이 있는지"
   ]
  },
  {
   "cell_type": "code",
   "execution_count": 48,
   "metadata": {},
   "outputs": [
    {
     "data": {
      "text/plain": [
       "['arr_0', 'arr_1']"
      ]
     },
     "execution_count": 48,
     "metadata": {},
     "output_type": "execute_result"
    }
   ],
   "source": [
    "npzfiles = np.load(\"test.npz\")     # 저장한 파일을 불러옴\n",
    "npzfiles.files"
   ]
  },
  {
   "cell_type": "code",
   "execution_count": 49,
   "metadata": {
    "scrolled": true
   },
   "outputs": [
    {
     "data": {
      "text/plain": [
       "array([[5, 9, 4],\n",
       "       [0, 7, 9]])"
      ]
     },
     "execution_count": 49,
     "metadata": {},
     "output_type": "execute_result"
    }
   ],
   "source": [
    "npzfiles['arr_0']     # a로 assign 했던 variable들을 불러옴"
   ]
  },
  {
   "cell_type": "markdown",
   "metadata": {},
   "source": [
    "Numpy _ Inspecting"
   ]
  },
  {
   "cell_type": "code",
   "execution_count": 50,
   "metadata": {},
   "outputs": [],
   "source": [
    "arr = np.random.random([5,2,3])"
   ]
  },
  {
   "cell_type": "code",
   "execution_count": 51,
   "metadata": {},
   "outputs": [
    {
     "name": "stdout",
     "output_type": "stream",
     "text": [
      "<class 'numpy.ndarray'>\n",
      "5\n",
      "(5, 2, 3)\n",
      "3\n",
      "30\n",
      "float64\n"
     ]
    }
   ],
   "source": [
    "print(type(arr))\n",
    "print(len(arr))\n",
    "print(arr.shape)\n",
    "print(arr.ndim)\n",
    "print(arr.size)\n",
    "print(arr.dtype)"
   ]
  },
  {
   "cell_type": "markdown",
   "metadata": {},
   "source": [
    "Numpy _ Operations"
   ]
  },
  {
   "cell_type": "code",
   "execution_count": 52,
   "metadata": {},
   "outputs": [
    {
     "name": "stdout",
     "output_type": "stream",
     "text": [
      "[1 2 3 4]\n",
      "[9 8 7 6]\n"
     ]
    }
   ],
   "source": [
    "a = np.arange(1,5)     # 1부터 5 전까지 array 만듦\n",
    "b = np.arange(9,5,-1)     # 9부터 5 전까지 -1의 단위로 array 만듦\n",
    "print(a)\n",
    "print(b)"
   ]
  },
  {
   "cell_type": "code",
   "execution_count": 53,
   "metadata": {},
   "outputs": [
    {
     "name": "stdout",
     "output_type": "stream",
     "text": [
      "[-8 -6 -4 -2]\n",
      "[ 9 16 21 24]\n"
     ]
    }
   ],
   "source": [
    "print(a - b)\n",
    "print(a * b)"
   ]
  },
  {
   "cell_type": "code",
   "execution_count": 55,
   "metadata": {},
   "outputs": [
    {
     "name": "stdout",
     "output_type": "stream",
     "text": [
      "[[1 2 3]\n",
      " [4 5 6]\n",
      " [7 8 9]]\n",
      "[[9 8 7]\n",
      " [6 5 4]\n",
      " [3 2 1]]\n"
     ]
    }
   ],
   "source": [
    "a = np.arange(1,10).reshape(3,3)\n",
    "b = np.arange(9,0,-1).reshape(3,3)\n",
    "print(a)\n",
    "print(b)"
   ]
  },
  {
   "cell_type": "code",
   "execution_count": 56,
   "metadata": {},
   "outputs": [
    {
     "data": {
      "text/plain": [
       "array([[False, False, False],\n",
       "       [False,  True, False],\n",
       "       [False, False, False]])"
      ]
     },
     "execution_count": 56,
     "metadata": {},
     "output_type": "execute_result"
    }
   ],
   "source": [
    "a == b     # a와 b가 같은지를 비교"
   ]
  },
  {
   "cell_type": "code",
   "execution_count": 57,
   "metadata": {},
   "outputs": [
    {
     "data": {
      "text/plain": [
       "array([[False, False, False],\n",
       "       [False, False,  True],\n",
       "       [ True,  True,  True]])"
      ]
     },
     "execution_count": 57,
     "metadata": {},
     "output_type": "execute_result"
    }
   ],
   "source": [
    "a > b     # a가 b보다 큰지를 비교"
   ]
  },
  {
   "cell_type": "code",
   "execution_count": 60,
   "metadata": {},
   "outputs": [
    {
     "data": {
      "text/plain": [
       "(45, 45)"
      ]
     },
     "execution_count": 60,
     "metadata": {},
     "output_type": "execute_result"
    }
   ],
   "source": [
    "a.sum(), np.sum(a)     # a의 variable들의 합"
   ]
  },
  {
   "cell_type": "code",
   "execution_count": 61,
   "metadata": {},
   "outputs": [
    {
     "data": {
      "text/plain": [
       "(array([12, 15, 18]), array([12, 15, 18]))"
      ]
     },
     "execution_count": 61,
     "metadata": {},
     "output_type": "execute_result"
    }
   ],
   "source": [
    "a.sum(axis = 0), np.sum(a, axis = 0)     # 0번째 차원에서 variable들의 합"
   ]
  },
  {
   "cell_type": "code",
   "execution_count": 62,
   "metadata": {},
   "outputs": [
    {
     "data": {
      "text/plain": [
       "(array([ 6, 15, 24]), array([ 6, 15, 24]))"
      ]
     },
     "execution_count": 62,
     "metadata": {},
     "output_type": "execute_result"
    }
   ],
   "source": [
    "a.sum(axis = 1), np.sum(a, axis = 1)     # 1번째 차원에서 variable들의 합"
   ]
  },
  {
   "cell_type": "markdown",
   "metadata": {},
   "source": [
    "Numpy _ Broadcasting"
   ]
  },
  {
   "cell_type": "code",
   "execution_count": 63,
   "metadata": {},
   "outputs": [
    {
     "data": {
      "text/plain": [
       "array([[ 1,  2,  3,  4,  5,  6],\n",
       "       [ 7,  8,  9, 10, 11, 12],\n",
       "       [13, 14, 15, 16, 17, 18],\n",
       "       [19, 20, 21, 22, 23, 24]])"
      ]
     },
     "execution_count": 63,
     "metadata": {},
     "output_type": "execute_result"
    }
   ],
   "source": [
    "a = np.arange(1,25).reshape(4,6)\n",
    "a"
   ]
  },
  {
   "cell_type": "code",
   "execution_count": 64,
   "metadata": {},
   "outputs": [
    {
     "data": {
      "text/plain": [
       "array([[101, 102, 103, 104, 105, 106],\n",
       "       [107, 108, 109, 110, 111, 112],\n",
       "       [113, 114, 115, 116, 117, 118],\n",
       "       [119, 120, 121, 122, 123, 124]])"
      ]
     },
     "execution_count": 64,
     "metadata": {},
     "output_type": "execute_result"
    }
   ],
   "source": [
    "a + 100"
   ]
  },
  {
   "cell_type": "code",
   "execution_count": 65,
   "metadata": {},
   "outputs": [
    {
     "data": {
      "text/plain": [
       "array([0, 1, 2, 3, 4, 5])"
      ]
     },
     "execution_count": 65,
     "metadata": {},
     "output_type": "execute_result"
    }
   ],
   "source": [
    "b = np.arange(6)\n",
    "b"
   ]
  },
  {
   "cell_type": "code",
   "execution_count": 66,
   "metadata": {},
   "outputs": [
    {
     "data": {
      "text/plain": [
       "array([[ 1,  3,  5,  7,  9, 11],\n",
       "       [ 7,  9, 11, 13, 15, 17],\n",
       "       [13, 15, 17, 19, 21, 23],\n",
       "       [19, 21, 23, 25, 27, 29]])"
      ]
     },
     "execution_count": 66,
     "metadata": {},
     "output_type": "execute_result"
    }
   ],
   "source": [
    "a + b"
   ]
  },
  {
   "cell_type": "markdown",
   "metadata": {},
   "source": [
    "Sound"
   ]
  },
  {
   "cell_type": "code",
   "execution_count": 1,
   "metadata": {},
   "outputs": [],
   "source": [
    "from matplotlib import pyplot as plt     # plotting할 때 사용\n",
    "from mpl_toolkits.mplot3d import Axes3D     # 3D plot\n",
    "from mpl_toolkits.axes_grid1 import make_axes_locatable\n",
    "import IPython.display as ipd\n",
    "import numpy as np\n",
    "%matplotlib notebook\n",
    "from scipy.signal import lfilter"
   ]
  },
  {
   "cell_type": "markdown",
   "metadata": {},
   "source": [
    "Sound _ Phasor"
   ]
  },
  {
   "cell_type": "code",
   "execution_count": 2,
   "metadata": {},
   "outputs": [],
   "source": [
    "# parameter setting\n",
    "amp = 1     # 진폭 (1 ~ -1)\n",
    "sr = 10000     # sampling rate(음질의 해상도 / 1초 동안 몇 개의 점들이 있는가)\n",
    "dur = 0.5\n",
    "freq = 440.0     # 1초에 몇 번 반복하는가 / 440의 배수는 'A'음\n",
    "# sampling rate로 표현할 수 있는 frequency의 maximum은 sr/2임 (Nyquist Frequency)"
   ]
  },
  {
   "cell_type": "code",
   "execution_count": 3,
   "metadata": {},
   "outputs": [],
   "source": [
    "theta = np.arange(0, 2*np.pi)     # default 간격이 1이므로 정수만 나열됨"
   ]
  },
  {
   "cell_type": "code",
   "execution_count": 4,
   "metadata": {},
   "outputs": [
    {
     "data": {
      "text/plain": [
       "array([0., 1., 2., 3., 4., 5., 6.])"
      ]
     },
     "execution_count": 4,
     "metadata": {},
     "output_type": "execute_result"
    }
   ],
   "source": [
    "theta"
   ]
  },
  {
   "cell_type": "code",
   "execution_count": 5,
   "metadata": {},
   "outputs": [],
   "source": [
    "s = np.sin(theta)     # np.sin = sin 함수"
   ]
  },
  {
   "cell_type": "code",
   "execution_count": 6,
   "metadata": {},
   "outputs": [
    {
     "data": {
      "text/plain": [
       "array([ 0.        ,  0.84147098,  0.90929743,  0.14112001, -0.7568025 ,\n",
       "       -0.95892427, -0.2794155 ])"
      ]
     },
     "execution_count": 6,
     "metadata": {},
     "output_type": "execute_result"
    }
   ],
   "source": [
    "s"
   ]
  },
  {
   "cell_type": "code",
   "execution_count": 7,
   "metadata": {},
   "outputs": [
    {
     "data": {
      "text/plain": [
       "[<matplotlib.lines.Line2D at 0x2ab347d2668>]"
      ]
     },
     "execution_count": 7,
     "metadata": {},
     "output_type": "execute_result"
    },
    {
     "data": {
      "image/png": "[encoded data removed]",
      "text/plain": [
       "<Figure size 432x288 with 4 Axes>"
      ]
     },
     "metadata": {
      "needs_background": "light"
     },
     "output_type": "display_data"
    }
   ],
   "source": [
    "# sin 함수\n",
    "fig = plt.figure()     # figure = 화면 전체\n",
    "ax = fig.add_subplot(221)     # figure를 2*2로 나눈 첫번째 분할\n",
    "ax.plot(theta, s, '.')\n",
    "ax = fig.add_subplot(222)     # figure를 2*2로 나눈 두번째 분할\n",
    "ax.plot(theta, s, '.')\n",
    "ax = fig.add_subplot(223)     # figure를 2*2로 나눈 세번째 분할\n",
    "ax.plot(theta, s, '.')\n",
    "ax = fig.add_subplot(224)     # figure를 2*2로 나눈 네번째 분할\n",
    "ax.plot(theta, s, '.')"
   ]
  },
  {
   "cell_type": "code",
   "execution_count": 8,
   "metadata": {},
   "outputs": [],
   "source": [
    "theta = np.arange(0, 2*np.pi, 0.1)"
   ]
  },
  {
   "cell_type": "code",
   "execution_count": 9,
   "metadata": {},
   "outputs": [
    {
     "data": {
      "text/plain": [
       "array([0. , 0.1, 0.2, 0.3, 0.4, 0.5, 0.6, 0.7, 0.8, 0.9, 1. , 1.1, 1.2,\n",
       "       1.3, 1.4, 1.5, 1.6, 1.7, 1.8, 1.9, 2. , 2.1, 2.2, 2.3, 2.4, 2.5,\n",
       "       2.6, 2.7, 2.8, 2.9, 3. , 3.1, 3.2, 3.3, 3.4, 3.5, 3.6, 3.7, 3.8,\n",
       "       3.9, 4. , 4.1, 4.2, 4.3, 4.4, 4.5, 4.6, 4.7, 4.8, 4.9, 5. , 5.1,\n",
       "       5.2, 5.3, 5.4, 5.5, 5.6, 5.7, 5.8, 5.9, 6. , 6.1, 6.2])"
      ]
     },
     "execution_count": 9,
     "metadata": {},
     "output_type": "execute_result"
    }
   ],
   "source": [
    "theta"
   ]
  },
  {
   "cell_type": "code",
   "execution_count": 10,
   "metadata": {},
   "outputs": [],
   "source": [
    "s = np.sin(theta)"
   ]
  },
  {
   "cell_type": "code",
   "execution_count": 11,
   "metadata": {},
   "outputs": [
    {
     "data": {
      "text/plain": [
       "array([ 0.        ,  0.09983342,  0.19866933,  0.29552021,  0.38941834,\n",
       "        0.47942554,  0.56464247,  0.64421769,  0.71735609,  0.78332691,\n",
       "        0.84147098,  0.89120736,  0.93203909,  0.96355819,  0.98544973,\n",
       "        0.99749499,  0.9995736 ,  0.99166481,  0.97384763,  0.94630009,\n",
       "        0.90929743,  0.86320937,  0.8084964 ,  0.74570521,  0.67546318,\n",
       "        0.59847214,  0.51550137,  0.42737988,  0.33498815,  0.23924933,\n",
       "        0.14112001,  0.04158066, -0.05837414, -0.15774569, -0.2555411 ,\n",
       "       -0.35078323, -0.44252044, -0.52983614, -0.61185789, -0.68776616,\n",
       "       -0.7568025 , -0.81827711, -0.87157577, -0.91616594, -0.95160207,\n",
       "       -0.97753012, -0.993691  , -0.99992326, -0.99616461, -0.98245261,\n",
       "       -0.95892427, -0.92581468, -0.88345466, -0.83226744, -0.77276449,\n",
       "       -0.70554033, -0.63126664, -0.55068554, -0.46460218, -0.37387666,\n",
       "       -0.2794155 , -0.1821625 , -0.0830894 ])"
      ]
     },
     "execution_count": 11,
     "metadata": {},
     "output_type": "execute_result"
    }
   ],
   "source": [
    "s"
   ]
  },
  {
   "cell_type": "code",
   "execution_count": 12,
   "metadata": {},
   "outputs": [
    {
     "data": {
      "text/plain": [
       "Text(0, 0.5, 'value')"
      ]
     },
     "execution_count": 12,
     "metadata": {},
     "output_type": "execute_result"
    },
    {
     "data": {
      "image/png": "[encoded data removed]",
      "text/plain": [
       "<Figure size 432x288 with 1 Axes>"
      ]
     },
     "metadata": {
      "needs_background": "light"
     },
     "output_type": "display_data"
    }
   ],
   "source": [
    "# sin 함수 (x축 equidistance, y축 equidistance X / x, y축 모두 equidistance인 경우는 그래프가 linear할 때 y=ax)\n",
    "fig = plt.figure()\n",
    "ax = fig.add_subplot(111)\n",
    "ax.plot(theta, s, '.')\n",
    "ax.set_xlabel('theta (radians)')\n",
    "ax.set_ylabel('value')"
   ]
  },
  {
   "cell_type": "code",
   "execution_count": 13,
   "metadata": {},
   "outputs": [],
   "source": [
    "# 각도값만으로는 sound를 만들 수 없음. time 필요\n",
    "t = np.arange(1, sr*dur+1)/sr     # time을 얼마나 쪼개는가 (0.0001 0.0002 0.0003 . . . 0.5000 > 1초에 만개)\n",
    "# t = np.arange(1, sr) > 1 ~ 9999\n",
    "# t = np.arange(1, sr+1) > 1 ~ 10000 (1초)\n",
    "# t = np.arange(1, sr*0.5+1) > 1~5000 (time tip / 0.5초 = dur)\n",
    "# t = np.arange(1, sr*0.5+1)/sr > 0.0001 ~ 0.5000초"
   ]
  },
  {
   "cell_type": "code",
   "execution_count": 14,
   "metadata": {},
   "outputs": [
    {
     "data": {
      "text/plain": [
       "array([1.000e-04, 2.000e-04, 3.000e-04, ..., 4.998e-01, 4.999e-01,\n",
       "       5.000e-01])"
      ]
     },
     "execution_count": 14,
     "metadata": {},
     "output_type": "execute_result"
    }
   ],
   "source": [
    "t     # 1.000의 10의 1/4승 = 0.0001"
   ]
  },
  {
   "cell_type": "code",
   "execution_count": 15,
   "metadata": {},
   "outputs": [],
   "source": [
    "theta = t * 2*np.pi * freq     # np.pi = π (상수)\n",
    "# theta = t * 2*np.pi > t가 1초이면 2π (한바퀴)\n",
    "# theta = t * 2*np.pi * freq > freq = 몇 바퀴를 돌아야하는가"
   ]
  },
  {
   "cell_type": "code",
   "execution_count": 16,
   "metadata": {},
   "outputs": [
    {
     "data": {
      "text/plain": [
       "array([2.76460154e-01, 5.52920307e-01, 8.29380461e-01, ...,\n",
       "       1.38174785e+03, 1.38202431e+03, 1.38230077e+03])"
      ]
     },
     "execution_count": 16,
     "metadata": {},
     "output_type": "execute_result"
    }
   ],
   "source": [
    "theta     # t와 벡터의 사이즈가 같음"
   ]
  },
  {
   "cell_type": "code",
   "execution_count": 17,
   "metadata": {},
   "outputs": [],
   "source": [
    "s = amp*np.sin(theta)     # time과 연관된 theta"
   ]
  },
  {
   "cell_type": "code",
   "execution_count": 18,
   "metadata": {
    "scrolled": true
   },
   "outputs": [
    {
     "data": {
      "text/plain": [
       "Text(0, 0.5, 'real')"
      ]
     },
     "execution_count": 18,
     "metadata": {},
     "output_type": "execute_result"
    },
    {
     "data": {
      "image/png": "[encoded data removed]",
      "text/plain": [
       "<Figure size 432x288 with 1 Axes>"
      ]
     },
     "metadata": {
      "needs_background": "light"
     },
     "output_type": "display_data"
    }
   ],
   "source": [
    "fig = plt.figure()\n",
    "ax = fig.add_subplot(111)\n",
    "ax.plot(t[0:100], s[0:100], '.')     # 두 개의 입력값(2차원): time(x), sin의 결과값(y) \n",
    "ax.set_xlabel('time (s)')\n",
    "ax.set_ylabel('real')\n",
    "# 0.01초까지의 sin 그래프 "
   ]
  },
  {
   "cell_type": "code",
   "execution_count": 19,
   "metadata": {},
   "outputs": [],
   "source": [
    "c = amp*np.exp(theta*1j)     # esp = exponential (오일러 함수의 e) / 1j = 오일러 함수의 i"
   ]
  },
  {
   "cell_type": "code",
   "execution_count": 20,
   "metadata": {},
   "outputs": [
    {
     "data": {
      "text/plain": [
       "array([0.96202767+2.72951936e-01j, 0.85099448+5.25174630e-01j,\n",
       "       0.67533281+7.37513117e-01j, ..., 0.85099448-5.25174630e-01j,\n",
       "       0.96202767-2.72951936e-01j, 1.        +3.13806691e-14j])"
      ]
     },
     "execution_count": 20,
     "metadata": {},
     "output_type": "execute_result"
    }
   ],
   "source": [
    "c     # 복소수 포함"
   ]
  },
  {
   "cell_type": "code",
   "execution_count": 21,
   "metadata": {},
   "outputs": [
    {
     "data": {
      "text/plain": [
       "Text(0.5, 0, 'imag')"
      ]
     },
     "execution_count": 21,
     "metadata": {},
     "output_type": "execute_result"
    },
    {
     "data": {
      "image/png": "[encoded data removed]",
      "text/plain": [
       "<Figure size 432x288 with 1 Axes>"
      ]
     },
     "metadata": {
      "needs_background": "light"
     },
     "output_type": "display_data"
    }
   ],
   "source": [
    "fig = plt.figure()\n",
    "ax = fig.add_subplot(111, projection='3d')\n",
    "ax.plot(t[0:100], c.real[0:100], c.imag[0:100], '.')     # 세 개의 입력값(3차원)\n",
    "ax.set_xlabel('time (s)')\n",
    "ax.set_ylabel('real')\n",
    "ax.set_zlabel('imag')\n",
    "# 그래프를 위에서 볼 때 (real) > cos 함수\n",
    "# 그래프를 앞에서 볼 때 (imaginary) > sin 함수"
   ]
  },
  {
   "cell_type": "code",
   "execution_count": 22,
   "metadata": {
    "scrolled": false
   },
   "outputs": [
    {
     "data": {
      "text/html": [
       "\n",
       "                <audio  controls=\"controls\" >\n",
       "                    <source src=\"data:audio/wav;base64,UklGRjQnAABXQVZFZm10IBAAAAABAAEAECcAACBOAAACABAAZGF0YRAnAADwIjlDaF5qcr19gn+Zd5tm0U0fL9gMmekMyMCq7JNOhQKAbYQ8kmCoLMVw5qQJHSw9S6ZkanYwf01+0nOMYPFFBSY3Ayvgib/MoxCP6IJAgEuHgZenr+fN9e86Ewo101JSar156n9ffGNv8VmqPbUckvnr1mO3X53YijeBN4HYil+dY7fr1pL5tRyqPfFZY29ffOp/vXlSatNSCjU6E/Xv582nr4GXS4dAgOiCEI/Mo4m/K+A3AwUm8UWMYNJzTX4wf2p2pmQ9Sx0spAlw5izFYKg8km2EAoBOheyTwKoMyJnp2AwfL9FNm2aZd4J/vX1qcmheOUPwIgAAEN3HvJihlo1Dgn6AZ4hlmS+y4dAo82cW9DdAVRRssnr+f5N7xG2gV9Q6kBlc9uPTw7Ram5aJ0ICzgS6MdJ8PuvvZyfzVH3dANFzwcBh9wH+1eH9oWVAZMgsQxuz2yi2trpVDhhaAoYOdkA+mVsJL424GFSmdSKFiKHXJfsl+KHWhYp1IFSluBkvjVsIPpp2QoYMWgEOGrpUtrfbKxuwLEBkyWVB/aLV4wH8YffBwNFx3QNUfyfz72Q+6dJ8ujLOB0ICWiVqbw7Tj01z2kBnUOqBXxG2Te/5/snoUbEBV9DdnFijz4dAvsmWZZ4h+gEOClo2Yoce8EN0AAPAiOUNoXmpyvX2Cf5l3m2bRTR8v2AyZ6QzIwKrsk06FAoBthDySYKgsxXDmpAkdLD1LpmRqdjB/TX7Sc4xg8UUFJjcDK+CJv8yjEI/ogkCAS4eBl6ev58317zoTCjXTUlJqvXnqf198Y2/xWao9tRyS+evWY7dfndiKN4E3gdiKX51jt+vWkvm1HKo98Vljb1986n+9eVJq01IKNToT9e/nzaevgZdLh0CA6IIQj8yjib8r4DcDBSbxRYxg0nNNfjB/anamZD1LHSykCXDmLMVgqDySbYQCgE6F7JPAqgzImenYDB8v0U2bZpl3gn+9fWpyaF45Q/AiAAAQ3ce8mKGWjUOCfoBniGWZL7Lh0CjzZxb0N0BVFGyyev5/k3vEbaBX1DqQGVz249PDtFqblonQgLOBLox0nw+6+9nJ/NUfd0A0XPBwGH3Af7V4f2hZUBkyCxDG7PbKLa2ulUOGFoChg52QD6ZWwkvjbgYVKZ1IoWIodcl+yX4odaFinUgVKW4GS+NWwg+mnZChgxaAQ4aulS2t9srG7AsQGTJZUH9otXjAfxh98HA0XHdA1R/J/PvZD7p0ny6Ms4HQgJaJWpvDtOPTXPaQGdQ6oFfEbZN7/n+yehRsQFX0N2cWKPPh0C+yZZlniH6AQ4KWjZihx7wQ3QAA8CI5Q2heanK9fYJ/mXebZtFNHy/YDJnpDMjAquyTToUCgG2EPJJgqCzFcOakCR0sPUumZGp2MH9NftJzjGDxRQUmNwMr4Im/zKMQj+iCQIBLh4GXp6/nzfXvOhMKNdNSUmq9eep/X3xjb/FZqj21HJL569Zjt1+d2Io3gTeB2IpfnWO369aS+bUcqj3xWWNvX3zqf715UmrTUgo1OhP17+fNp6+Bl0uHQIDoghCPzKOJvyvgNwMFJvFFjGDSc01+MH9qdqZkPUsdLKQJcOYsxWCoPJJthAKAToXsk8CqDMiZ6dgMHy/RTZtmmXeCf719anJoXjlD8CIAABDdx7yYoZaNQ4J+gGeIZZkvsuHQKPNnFvQ3QFUUbLJ6/n+Te8RtoFfUOpAZXPbj08O0WpuWidCAs4EujHSfD7r72cn81R93QDRc8HAYfcB/tXh/aFlQGTILEMbs9sotra6VQ4YWgKGDnZAPplbCS+NuBhUpnUihYih1yX7Jfih1oWKdSBUpbgZL41bCD6adkKGDFoBDhq6VLa32ysbsCxAZMllQf2i1eMB/GH3wcDRcd0DVH8n8+9kPunSfLoyzgdCAlolam8O049Nc9pAZ1DqgV8Rtk3v+f7J6FGxAVfQ3ZxYo8+HQL7JlmWeIfoBDgpaNmKHHvBDdAADwIjlDaF5qcr19gn+Zd5tm0U0fL9gMmekMyMCq7JNOhQKAbYQ8kmCoLMVw5qQJHSw9S6ZkanYwf01+0nOMYPFFBSY3Ayvgib/MoxCP6IJAgEuHgZenr+fN9e86Ewo101JSar156n9ffGNv8VmqPbUckvnr1mO3X53YijeBN4HYil+dY7fr1pL5tRyqPfFZY29ffOp/vXlSatNSCjU6E/Xv582nr4GXS4dAgOiCEI/Mo4m/K+A3AwUm8UWMYNJzTX4wf2p2pmQ9Sx0spAlw5izFYKg8km2EAoBOheyTwKoMyJnp2AwfL9FNm2aZd4J/vX1qcmheOUPwIgAAEN3HvJihlo1Dgn6AZ4hlmS+y4dAo82cW9DdAVRRssnr+f5N7xG2gV9Q6kBlc9uPTw7Ram5aJ0ICzgS6MdJ8PuvvZyfzVH3dANFzwcBh9wH+1eH9oWVAZMgsQxuz2yi2trpVDhhaAoYOdkA+mVsJL424GFSmdSKFiKHXJfsl+KHWhYp1IFSluBkvjVsIPpp2QoYMWgEOGrpUtrfbKxuwLEBkyWVB/aLV4wH8YffBwNFx3QNUfyfz72Q+6dJ8ujLOB0ICWiVqbw7Tj01z2kBnUOqBXxG2Te/5/snoUbEBV9DdnFijz4dAvsmWZZ4h+gEOClo2Yoce8EN0AAPAiOUNoXmpyvX2Cf5l3m2bRTR8v2AyZ6QzIwKrsk06FAoBthDySYKgsxXDmpAkdLD1LpmRqdjB/TX7Sc4xg8UUFJjcDK+CJv8yjEI/ogkCAS4eBl6ev58317zoTCjXTUlJqvXnqf198Y2/xWao9tRyS+evWY7dfndiKN4E3gdiKX51jt+vWkvm1HKo98Vljb1986n+9eVJq01IKNToT9e/nzaevgZdLh0CA6IIQj8yjib8r4DcDBSbxRYxg0nNNfjB/anamZD1LHSykCXDmLMVgqDySbYQCgE6F7JPAqgzImenYDB8v0U2bZpl3gn+9fWpyaF45Q/AiAAAQ3ce8mKGWjUOCfoBniGWZL7Lh0CjzZxb0N0BVFGyyev5/k3vEbaBX1DqQGVz249PDtFqblonQgLOBLox0nw+6+9nJ/NUfd0A0XPBwGH3Af7V4f2hZUBkyCxDG7PbKLa2ulUOGFoChg52QD6ZWwkvjbgYVKZ1IoWIodcl+yX4odaFinUgVKW4GS+NWwg+mnZChgxaAQ4aulS2t9srG7AsQGTJZUH9otXjAfxh98HA0XHdA1R/J/PvZD7p0ny6Ms4HQgJaJWpvDtOPTXPaQGdQ6oFfEbZN7/n+yehRsQFX0N2cWKPPh0C+yZZlniH6AQ4KWjZihx7wQ3QAA8CI5Q2heanK9fYJ/mXebZtFNHy/YDJnpDMjAquyTToUCgG2EPJJgqCzFcOakCR0sPUumZGp2MH9NftJzjGDxRQUmNwMr4Im/zKMQj+iCQIBLh4GXp6/nzfXvOhMKNdNSUmq9eep/X3xjb/FZqj21HJL569Zjt1+d2Io3gTeB2IpfnWO369aS+bUcqj3xWWNvX3zqf715UmrTUgo1OhP17+fNp6+Bl0uHQIDoghCPzKOJvyvgNwMFJvFFjGDSc01+MH9qdqZkPUsdLKQJcOYsxWCoPJJthAKAToXsk8CqDMiZ6dgMHy/RTZtmmXeCf719anJoXjlD8CIAABDdx7yYoZaNQ4J+gGeIZZkvsuHQKPNnFvQ3QFUUbLJ6/n+Te8RtoFfUOpAZXPbj08O0WpuWidCAs4EujHSfD7r72cn81R93QDRc8HAYfcB/tXh/aFlQGTILEMbs9sotra6VQ4YWgKGDnZAPplbCS+NuBhUpnUihYih1yX7Jfih1oWKdSBUpbgZL41bCD6adkKGDFoBDhq6VLa32ysbsCxAZMllQf2i1eMB/GH3wcDRcd0DVH8n8+9kPunSfLoyzgdCAlolam8O049Nc9pAZ1DqgV8Rtk3v+f7J6FGxAVfQ3ZxYo8+HQL7JlmWeIfoBDgpaNmKHHvBDdAADwIjlDaF5qcr19gn+Zd5tm0U0fL9gMmekMyMCq7JNOhQKAbYQ8kmCoLMVw5qQJHSw9S6ZkanYwf01+0nOMYPFFBSY3Ayvgib/MoxCP6IJAgEuHgZenr+fN9e86Ewo101JSar156n9ffGNv8VmqPbUckvnr1mO3X53YijeBN4HYil+dY7fr1pL5tRyqPfFZY29ffOp/vXlSatNSCjU6E/Xv582nr4GXS4dAgOiCEI/Mo4m/K+A3AwUm8UWMYNJzTX4wf2p2pmQ9Sx0spAlw5izFYKg8km2EAoBOheyTwKoMyJnp2AwfL9FNm2aZd4J/vX1qcmheOUPwIgAAEN3HvJihlo1Dgn6AZ4hlmS+y4dAo82cW9DdAVRRssnr+f5N7xG2gV9Q6kBlc9uPTw7Ram5aJ0ICzgS6MdJ8PuvvZyfzVH3dANFzwcBh9wH+1eH9oWVAZMgsQxuz2yi2trpVDhhaAoYOdkA+mVsJL424GFSmdSKFiKHXJfsl+KHWhYp1IFSluBkvjVsIPpp2QoYMWgEOGrpUtrfbKxuwLEBkyWVB/aLV4wH8YffBwNFx3QNUfyfz72Q+6dJ8ujLOB0ICWiVqbw7Tj01z2kBnUOqBXxG2Te/5/snoUbEBV9DdnFijz4dAvsmWZZ4h+gEOClo2Yoce8EN0AAPAiOUNoXmpyvX2Cf5l3m2bRTR8v2AyZ6QzIwKrsk06FAoBthDySYKgsxXDmpAkdLD1LpmRqdjB/TX7Sc4xg8UUFJjcDK+CJv8yjEI/ogkCAS4eBl6ev58317zoTCjXTUlJqvXnqf198Y2/xWao9tRyS+evWY7dfndiKN4E3gdiKX51jt+vWkvm1HKo98Vljb1986n+9eVJq01IKNToT9e/nzaevgZdLh0CA6IIQj8yjib8r4DcDBSbxRYxg0nNNfjB/anamZD1LHSykCXDmLMVgqDySbYQCgE6F7JPAqgzImenYDB8v0U2bZpl3gn+9fWpyaF45Q/AiAAAQ3ce8mKGWjUOCfoBniGWZL7Lh0CjzZxb0N0BVFGyyev5/k3vEbaBX1DqQGVz249PDtFqblonQgLOBLox0nw+6+9nJ/NUfd0A0XPBwGH3Af7V4f2hZUBkyCxDG7PbKLa2ulUOGFoChg52QD6ZWwkvjbgYVKZ1IoWIodcl+yX4odaFinUgVKW4GS+NWwg+mnZChgxaAQ4aulS2t9srG7AsQGTJZUH9otXjAfxh98HA0XHdA1R/J/PvZD7p0ny6Ms4HQgJaJWpvDtOPTXPaQGdQ6oFfEbZN7/n+yehRsQFX0N2cWKPPh0C+yZZlniH6AQ4KWjZihx7wQ3QAA8CI5Q2heanK9fYJ/mXebZtFNHy/YDJnpDMjAquyTToUCgG2EPJJgqCzFcOakCR0sPUumZGp2MH9NftJzjGDxRQUmNwMr4Im/zKMQj+iCQIBLh4GXp6/nzfXvOhMKNdNSUmq9eep/X3xjb/FZqj21HJL569Zjt1+d2Io3gTeB2IpfnWO369aS+bUcqj3xWWNvX3zqf715UmrTUgo1OhP17+fNp6+Bl0uHQIDoghCPzKOJvyvgNwMFJvFFjGDSc01+MH9qdqZkPUsdLKQJcOYsxWCoPJJthAKAToXsk8CqDMiZ6dgMHy/RTZtmmXeCf719anJoXjlD8CIAABDdx7yYoZaNQ4J+gGeIZZkvsuHQKPNnFvQ3QFUUbLJ6/n+Te8RtoFfUOpAZXPbj08O0WpuWidCAs4EujHSfD7r72cn81R93QDRc8HAYfcB/tXh/aFlQGTILEMbs9sotra6VQ4YWgKGDnZAPplbCS+NuBhUpnUihYih1yX7Jfih1oWKdSBUpbgZL41bCD6adkKGDFoBDhq6VLa32ysbsCxAZMllQf2i1eMB/GH3wcDRcd0DVH8n8+9kPunSfLoyzgdCAlolam8O049Nc9pAZ1DqgV8Rtk3v+f7J6FGxAVfQ3ZxYo8+HQL7JlmWeIfoBDgpaNmKHHvBDdAADwIjlDaF5qcr19gn+Zd5tm0U0fL9gMmekMyMCq7JNOhQKAbYQ8kmCoLMVw5qQJHSw9S6ZkanYwf01+0nOMYPFFBSY3Ayvgib/MoxCP6IJAgEuHgZenr+fN9e86Ewo101JSar156n9ffGNv8VmqPbUckvnr1mO3X53YijeBN4HYil+dY7fr1pL5tRyqPfFZY29ffOp/vXlSatNSCjU6E/Xv582nr4GXS4dAgOiCEI/Mo4m/K+A3AwUm8UWMYNJzTX4wf2p2pmQ9Sx0spAlw5izFYKg8km2EAoBOheyTwKoMyJnp2AwfL9FNm2aZd4J/vX1qcmheOUPwIgAAEN3HvJihlo1Dgn6AZ4hlmS+y4dAo82cW9DdAVRRssnr+f5N7xG2gV9Q6kBlc9uPTw7Ram5aJ0ICzgS6MdJ8PuvvZyfzVH3dANFzwcBh9wH+1eH9oWVAZMgsQxuz2yi2trpVDhhaAoYOdkA+mVsJL424GFSmdSKFiKHXJfsl+KHWhYp1IFSluBkvjVsIPpp2QoYMWgEOGrpUtrfbKxuwLEBkyWVB/aLV4wH8YffBwNFx3QNUfyfz72Q+6dJ8ujLOB0ICWiVqbw7Tj01z2kBnUOqBXxG2Te/5/snoUbEBV9DdnFijz4dAvsmWZZ4h+gEOClo2Yoce8EN0AAPAiOUNoXmpyvX2Cf5l3m2bRTR8v2AyZ6QzIwKrsk06FAoBthDySYKgsxXDmpAkdLD1LpmRqdjB/TX7Sc4xg8UUFJjcDK+CJv8yjEI/ogkCAS4eBl6ev58317zoTCjXTUlJqvXnqf198Y2/xWao9tRyS+evWY7dfndiKN4E3gdiKX51jt+vWkvm1HKo98Vljb1986n+9eVJq01IKNToT9e/nzaevgZdLh0CA6IIQj8yjib8r4DcDBSbxRYxg0nNNfjB/anamZD1LHSykCXDmLMVgqDySbYQCgE6F7JPAqgzImenYDB8v0U2bZpl3gn+9fWpyaF45Q/AiAAAQ3ce8mKGWjUOCfoBniGWZL7Lh0CjzZxb0N0BVFGyyev5/k3vEbaBX1DqQGVz249PDtFqblonQgLOBLox0nw+6+9nJ/NUfd0A0XPBwGH3Af7V4f2hZUBkyCxDG7PbKLa2ulUOGFoChg52QD6ZWwkvjbgYVKZ1IoWIodcl+yX4odaFinUgVKW4GS+NWwg+mnZChgxaAQ4aulS2t9srG7AsQGTJZUH9otXjAfxh98HA0XHdA1R/J/PvZD7p0ny6Ms4HQgJaJWpvDtOPTXPaQGdQ6oFfEbZN7/n+yehRsQFX0N2cWKPPh0C+yZZlniH6AQ4KWjZihx7wQ3QAA8CI5Q2heanK9fYJ/mXebZtFNHy/YDJnpDMjAquyTToUCgG2EPJJgqCzFcOakCR0sPUumZGp2MH9NftJzjGDxRQUmNwMr4Im/zKMQj+iCQIBLh4GXp6/nzfXvOhMKNdNSUmq9eep/X3xjb/FZqj21HJL569Zjt1+d2Io3gTeB2IpfnWO369aS+bUcqj3xWWNvX3zqf715UmrTUgo1OhP17+fNp6+Bl0uHQIDoghCPzKOJvyvgNwMFJvFFjGDSc01+MH9qdqZkPUsdLKQJcOYsxWCoPJJthAKAToXsk8CqDMiZ6dgMHy/RTZtmmXeCf719anJoXjlD8CIAABDdx7yYoZaNQ4J+gGeIZZkvsuHQKPNnFvQ3QFUUbLJ6/n+Te8RtoFfUOpAZXPbj08O0WpuWidCAs4EujHSfD7r72cn81R93QDRc8HAYfcB/tXh/aFlQGTILEMbs9sotra6VQ4YWgKGDnZAPplbCS+NuBhUpnUihYih1yX7Jfih1oWKdSBUpbgZL41bCD6adkKGDFoBDhq6VLa32ysbsCxAZMllQf2i1eMB/GH3wcDRcd0DVH8n8+9kPunSfLoyzgdCAlolam8O049Nc9pAZ1DqgV8Rtk3v+f7J6FGxAVfQ3ZxYo8+HQL7JlmWeIfoBDgpaNmKHHvBDdAADwIjlDaF5qcr19gn+Zd5tm0U0fL9gMmekMyMCq7JNOhQKAbYQ8kmCoLMVw5qQJHSw9S6ZkanYwf01+0nOMYPFFBSY3Ayvgib/MoxCP6IJAgEuHgZenr+fN9e86Ewo101JSar156n9ffGNv8VmqPbUckvnr1mO3X53YijeBN4HYil+dY7fr1pL5tRyqPfFZY29ffOp/vXlSatNSCjU6E/Xv582nr4GXS4dAgOiCEI/Mo4m/K+A3AwUm8UWMYNJzTX4wf2p2pmQ9Sx0spAlw5izFYKg8km2EAoBOheyTwKoMyJnp2AwfL9FNm2aZd4J/vX1qcmheOUPwIgAAEN3HvJihlo1Dgn6AZ4hlmS+y4dAo82cW9DdAVRRssnr+f5N7xG2gV9Q6kBlc9uPTw7Ram5aJ0ICzgS6MdJ8PuvvZyfzVH3dANFzwcBh9wH+1eH9oWVAZMgsQxuz2yi2trpVDhhaAoYOdkA+mVsJL424GFSmdSKFiKHXJfsl+KHWhYp1IFSluBkvjVsIPpp2QoYMWgEOGrpUtrfbKxuwLEBkyWVB/aLV4wH8YffBwNFx3QNUfyfz72Q+6dJ8ujLOB0ICWiVqbw7Tj01z2kBnUOqBXxG2Te/5/snoUbEBV9DdnFijz4dAvsmWZZ4h+gEOClo2Yoce8EN0AAPAiOUNoXmpyvX2Cf5l3m2bRTR8v2AyZ6QzIwKrsk06FAoBthDySYKgsxXDmpAkdLD1LpmRqdjB/TX7Sc4xg8UUFJjcDK+CJv8yjEI/ogkCAS4eBl6ev58317zoTCjXTUlJqvXnqf198Y2/xWao9tRyS+evWY7dfndiKN4E3gdiKX51jt+vWkvm1HKo98Vljb1986n+9eVJq01IKNToT9e/nzaevgZdLh0CA6IIQj8yjib8r4DcDBSbxRYxg0nNNfjB/anamZD1LHSykCXDmLMVgqDySbYQCgE6F7JPAqgzImenYDB8v0U2bZpl3gn+9fWpyaF45Q/AiAAAQ3ce8mKGWjUOCfoBniGWZL7Lh0CjzZxb0N0BVFGyyev5/k3vEbaBX1DqQGVz249PDtFqblonQgLOBLox0nw+6+9nJ/NUfd0A0XPBwGH3Af7V4f2hZUBkyCxDG7PbKLa2ulUOGFoChg52QD6ZWwkvjbgYVKZ1IoWIodcl+yX4odaFinUgVKW4GS+NWwg+mnZChgxaAQ4aulS2t9srG7AsQGTJZUH9otXjAfxh98HA0XHdA1R/J/PvZD7p0ny6Ms4HQgJaJWpvDtOPTXPaQGdQ6oFfEbZN7/n+yehRsQFX0N2cWKPPh0C+yZZlniH6AQ4KWjZihx7wQ3QAA8CI5Q2heanK9fYJ/mXebZtFNHy/YDJnpDMjAquyTToUCgG2EPJJgqCzFcOakCR0sPUumZGp2MH9NftJzjGDxRQUmNwMr4Im/zKMQj+iCQIBLh4GXp6/nzfXvOhMKNdNSUmq9eep/X3xjb/FZqj21HJL569Zjt1+d2Io3gTeB2IpfnWO369aS+bUcqj3xWWNvX3zqf715UmrTUgo1OhP17+fNp6+Bl0uHQIDoghCPzKOJvyvgNwMFJvFFjGDSc01+MH9qdqZkPUsdLKQJcOYsxWCoPJJthAKAToXsk8CqDMiZ6dgMHy/RTZtmmXeCf719anJoXjlD8CIAABDdx7yYoZaNQ4J+gGeIZZkvsuHQKPNnFvQ3QFUUbLJ6/n+Te8RtoFfUOpAZXPbj08O0WpuWidCAs4EujHSfD7r72cn81R93QDRc8HAYfcB/tXh/aFlQGTILEMbs9sotra6VQ4YWgKGDnZAPplbCS+NuBhUpnUihYih1yX7Jfih1oWKdSBUpbgZL41bCD6adkKGDFoBDhq6VLa32ysbsCxAZMllQf2i1eMB/GH3wcDRcd0DVH8n8+9kPunSfLoyzgdCAlolam8O049Nc9pAZ1DqgV8Rtk3v+f7J6FGxAVfQ3ZxYo8+HQL7JlmWeIfoBDgpaNmKHHvBDdAADwIjlDaF5qcr19gn+Zd5tm0U0fL9gMmekMyMCq7JNOhQKAbYQ8kmCoLMVw5qQJHSw9S6ZkanYwf01+0nOMYPFFBSY3Ayvgib/MoxCP6IJAgEuHgZenr+fN9e86Ewo101JSar156n9ffGNv8VmqPbUckvnr1mO3X53YijeBN4HYil+dY7fr1pL5tRyqPfFZY29ffOp/vXlSatNSCjU6E/Xv582nr4GXS4dAgOiCEI/Mo4m/K+A3AwUm8UWMYNJzTX4wf2p2pmQ9Sx0spAlw5izFYKg8km2EAoBOheyTwKoMyJnp2AwfL9FNm2aZd4J/vX1qcmheOUPwIgAAEN3HvJihlo1Dgn6AZ4hlmS+y4dAo82cW9DdAVRRssnr+f5N7xG2gV9Q6kBlc9uPTw7Ram5aJ0ICzgS6MdJ8PuvvZyfzVH3dANFzwcBh9wH+1eH9oWVAZMgsQxuz2yi2trpVDhhaAoYOdkA+mVsJL424GFSmdSKFiKHXJfsl+KHWhYp1IFSluBkvjVsIPpp2QoYMWgEOGrpUtrfbKxuwLEBkyWVB/aLV4wH8YffBwNFx3QNUfyfz72Q+6dJ8ujLOB0ICWiVqbw7Tj01z2kBnUOqBXxG2Te/5/snoUbEBV9DdnFijz4dAvsmWZZ4h+gEOClo2Yoce8EN0AAPAiOUNoXmpyvX2Cf5l3m2bRTR8v2AyZ6QzIwKrsk06FAoBthDySYKgsxXDmpAkdLD1LpmRqdjB/TX7Sc4xg8UUFJjcDK+CJv8yjEI/ogkCAS4eBl6ev58317zoTCjXTUlJqvXnqf198Y2/xWao9tRyS+evWY7dfndiKN4E3gdiKX51jt+vWkvm1HKo98Vljb1986n+9eVJq01IKNToT9e/nzaevgZdLh0CA6IIQj8yjib8r4DcDBSbxRYxg0nNNfjB/anamZD1LHSykCXDmLMVgqDySbYQCgE6F7JPAqgzImenYDB8v0U2bZpl3gn+9fWpyaF45Q/AiAAAQ3ce8mKGWjUOCfoBniGWZL7Lh0CjzZxb0N0BVFGyyev5/k3vEbaBX1DqQGVz249PDtFqblonQgLOBLox0nw+6+9nJ/NUfd0A0XPBwGH3Af7V4f2hZUBkyCxDG7PbKLa2ulUOGFoChg52QD6ZWwkvjbgYVKZ1IoWIodcl+yX4odaFinUgVKW4GS+NWwg+mnZChgxaAQ4aulS2t9srG7AsQGTJZUH9otXjAfxh98HA0XHdA1R/J/PvZD7p0ny6Ms4HQgJaJWpvDtOPTXPaQGdQ6oFfEbZN7/n+yehRsQFX0N2cWKPPh0C+yZZlniH6AQ4KWjZihx7wQ3QAA8CI5Q2heanK9fYJ/mXebZtFNHy/YDJnpDMjAquyTToUCgG2EPJJgqCzFcOakCR0sPUumZGp2MH9NftJzjGDxRQUmNwMr4Im/zKMQj+iCQIBLh4GXp6/nzfXvOhMKNdNSUmq9eep/X3xjb/FZqj21HJL569Zjt1+d2Io3gTeB2IpfnWO369aS+bUcqj3xWWNvX3zqf715UmrTUgo1OhP17+fNp6+Bl0uHQIDoghCPzKOJvyvgNwMFJvFFjGDSc01+MH9qdqZkPUsdLKQJcOYsxWCoPJJthAKAToXsk8CqDMiZ6dgMHy/RTZtmmXeCf719anJoXjlD8CIAABDdx7yYoZaNQ4J+gGeIZZkvsuHQKPNnFvQ3QFUUbLJ6/n+Te8RtoFfUOpAZXPbj08O0WpuWidCAs4EujHSfD7r72cn81R93QDRc8HAYfcB/tXh/aFlQGTILEMbs9sotra6VQ4YWgKGDnZAPplbCS+NuBhUpnUihYih1yX7Jfih1oWKdSBUpbgZL41bCD6adkKGDFoBDhq6VLa32ysbsCxAZMllQf2i1eMB/GH3wcDRcd0DVH8n8+9kPunSfLoyzgdCAlolam8O049Nc9pAZ1DqgV8Rtk3v+f7J6FGxAVfQ3ZxYo8+HQL7JlmWeIfoBDgpaNmKHHvBDdAADwIjlDaF5qcr19gn+Zd5tm0U0fL9gMmekMyMCq7JNOhQKAbYQ8kmCoLMVw5qQJHSw9S6ZkanYwf01+0nOMYPFFBSY3Ayvgib/MoxCP6IJAgEuHgZenr+fN9e86Ewo101JSar156n9ffGNv8VmqPbUckvnr1mO3X53YijeBN4HYil+dY7fr1pL5tRyqPfFZY29ffOp/vXlSatNSCjU6E/Xv582nr4GXS4dAgOiCEI/Mo4m/K+A3AwUm8UWMYNJzTX4wf2p2pmQ9Sx0spAlw5izFYKg8km2EAoBOheyTwKoMyJnp2AwfL9FNm2aZd4J/vX1qcmheOUPwIgAAEN3HvJihlo1Dgn6AZ4hlmS+y4dAo82cW9DdAVRRssnr+f5N7xG2gV9Q6kBlc9uPTw7Ram5aJ0ICzgS6MdJ8PuvvZyfzVH3dANFzwcBh9wH+1eH9oWVAZMgsQxuz2yi2trpVDhhaAoYOdkA+mVsJL424GFSmdSKFiKHXJfsl+KHWhYp1IFSluBkvjVsIPpp2QoYMWgEOGrpUtrfbKxuwLEBkyWVB/aLV4wH8YffBwNFx3QNUfyfz72Q+6dJ8ujLOB0ICWiVqbw7Tj01z2kBnUOqBXxG2Te/9/snoUbEBV9DdnFijz4dAvsmWZZ4h+gEOClo2Yoce8EN0AAPAiOUNoXmpyvX2Cf5l3m2bRTR8v2AyZ6QzIwKrsk06FAoBthDySYKgsxXDmpAkdLD1LpmRqdjB/TX7Sc4xg8UUFJjcDK+CJv8yjEI/ogkCAS4eBl6ev58317zoTCjXTUlJqvXnqf198Y2/xWao9tRyS+evWY7dfndiKN4E3gdiKX51jt+vWkvm1HKo98Vljb1986n+9eVJq01IKNToT9e/nzaevgZdLh0CA6IIQj8yjib8r4DcDBSbxRYxg0nNNfjB/anamZD1LHSykCXDmLMVgqDySbYQBgE6F7JPAqgzImenYDB8v0U2bZpl3gn+9fWpyaF45Q/AiAAAQ3ce8mKGWjUOCfoBniGWZL7Lh0CjzZxb0N0BVFGyyev5/k3vEbaBX1DqQGVz249PDtFqblonQgLOBLox0nw+6+9nJ/NUfd0A0XPBwGH3Af7V4f2hZUBkyCxDG7PbKLa2ulUOGFoChg52QD6ZWwkvjbgYVKZ1IoWIodcl+yX4odaFinUgVKW4GS+NWwg+mnZChgxaAQ4aulS2t9srG7AsQGTJZUH9otXjAfxh98HA0XHdA1R/J/PvZD7p0ny6Ms4HQgJaJWpvDtOPTXPaQGdQ6oFfEbZN7/n+yehRsQFX0N2cWKPPh0C+yZZlniH6AQ4KWjZihx7wQ3QAA\" type=\"audio/wav\" />\n",
       "                    Your browser does not support the audio element.\n",
       "                </audio>\n",
       "              "
      ],
      "text/plain": [
       "<IPython.lib.display.Audio object>"
      ]
     },
     "execution_count": 22,
     "metadata": {},
     "output_type": "execute_result"
    }
   ],
   "source": [
    "ipd.Audio(s, rate=sr)     # sin과 cos의 음은 같음"
   ]
  },
  {
   "cell_type": "code",
   "execution_count": 23,
   "metadata": {},
   "outputs": [],
   "source": [
    "import sounddevice as sd\n",
    "sd.play(c.real, sr)"
   ]
  },
  {
   "cell_type": "markdown",
   "metadata": {},
   "source": [
    "Sound _ Generate Pulse Train"
   ]
  },
  {
   "cell_type": "code",
   "execution_count": 24,
   "metadata": {},
   "outputs": [
    {
     "data": {
      "text/html": [
       "\n",
       "                <audio  controls=\"controls\" >\n",
       "                    <source src=\"data:audio/wav;base64,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\" type=\"audio/wav\" />\n",
       "                    Your browser does not support the audio element.\n",
       "                </audio>\n",
       "              "
      ],
      "text/plain": [
       "<IPython.lib.display.Audio object>"
      ]
     },
     "execution_count": 24,
     "metadata": {},
     "output_type": "execute_result"
    },
    {
     "data": {
      "image/png": "[encoded data removed]",
      "text/plain": [
       "<Figure size 432x288 with 1 Axes>"
      ]
     },
     "metadata": {
      "needs_background": "light"
     },
     "output_type": "display_data"
    }
   ],
   "source": [
    "F0 = 100\n",
    "Fend = int(sr/2)     # 마지막 frequency = nyquist frequency\n",
    "s = np.zeros(len(t));\n",
    "for freq in range(F0, Fend+1, F0):     # 100 ~ 5000, 100 간격으로 (50번 loop)\n",
    "    theta = t * 2*np.pi * freq     # t의 정보의 양과 같은 array가 50번 loop\n",
    "    s = s + amp*np.sin(theta)     # s가 t의 길이만큼 0으로 채워져 있고 50번 loop를 돌면서 더해짐\n",
    "fig = plt.figure()\n",
    "ax = fig.add_subplot(111)\n",
    "ax.plot(t[0:1000], s[0:1000])\n",
    "ax.set_xlabel('time(msec)')\n",
    "ipd.Audio(s, rate=sr)"
   ]
  },
  {
   "cell_type": "code",
   "execution_count": 25,
   "metadata": {},
   "outputs": [],
   "source": [
    "def hz2w(F, sr):     # hz2w: function name / F, sr: function의 입력값\n",
    "    NyFreq = sr/2;\n",
    "    w = F/NyFreq *np.pi;\n",
    "    return w     # w: 출력\n",
    "\n",
    "def resonance (srate, F, BW):     # resonance: function name / srate, F, BW: function 입력값\n",
    "    a2 = np.exp(-hz2w(BW,srate))\n",
    "    omega = F*2*np.pi/srate\n",
    "    a1 = -2*np.sqrt(a2)*np.cos(omega)\n",
    "    a = np.array([1, a1, a2])\n",
    "    b = np.array([sum(a)])\n",
    "    return a, b     # a, b: 출력"
   ]
  },
  {
   "cell_type": "code",
   "execution_count": 26,
   "metadata": {},
   "outputs": [
    {
     "data": {
      "text/html": [
       "\n",
       "                <audio  controls=\"controls\" >\n",
       "                    <source src=\"data:audio/wav;base64,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\" type=\"audio/wav\" />\n",
       "                    Your browser does not support the audio element.\n",
       "                </audio>\n",
       "              "
      ],
      "text/plain": [
       "<IPython.lib.display.Audio object>"
      ]
     },
     "execution_count": 26,
     "metadata": {},
     "output_type": "execute_result"
    }
   ],
   "source": [
    "RG = 0  # foramnt의 위치 (frequency)\n",
    "BWG = 100  # formant shape, 폭 (bandwidth)\n",
    "a, b=resonance(sr,RG,BWG)     # RG를 기준으로 BWG 형성\n",
    "s = lfilter(b, a, s, axis=0)\n",
    "ipd.Audio(s, rate=sr)"
   ]
  },
  {
   "cell_type": "code",
   "execution_count": 27,
   "metadata": {},
   "outputs": [
    {
     "data": {
      "text/html": [
       "\n",
       "                <audio  controls=\"controls\" >\n",
       "                    <source src=\"data:audio/wav;base64,UklGRjQnAABXQVZFZm10IBAAAAABAAEAECcAACBOAAACABAAZGF0YRAnAABtAJ8B9wOqB9wMfRNlG0MktC1DN3xA8EhHUD1Ws1qqXUJfuF9eX5Besl0bXRpd4l2SXyhijWWPae1tW3KKdjJ6F30Mf/9/7n/zfjd983poeNh1gnOacUVwmG+RbyBwJHFvcs1zCHXvdVh2JXZHdb9znnH/bgls6WjMZd1iP2ALXk5cCVsuWqhZVlkVWb9YMVhPVwNWRFQQUnNPgExPSQBGsEJ8P3o8vTlJNyA1NjN7MdQvKS5aLE8q6iccJc0h+h2NGYMUhg5mB4z/b/e37/3o0uOe4KXf7+BZ5I3pE/BV97r+pQWUCx4QAxMvFLkT3xH/Do4LCQjqBJ0CcgGdASwDCgYBCsIO6hMRGdAdzyHHJJAmGyd7JtwkfyK0H9QcMhoZGMEWThbKFigYQhriHMYfpiI9JUwnpSgsKdcosifdJYQj3iAoHpsbaRm7F6cWNxZeFgUXBRgyGVkaSxvdG+4baxtNGpwYbRbcExERMg5nC9EIiwaiBBsD6wEBAT0Af/+c/nH90fuk+bv2CPMk7trnkODK2DbRf8pIxQrCGsGQwlPGEsxU04Db8eMA7Brzx/i6/NH+Hf/V/Vv7JPi49JrxQu8O7j7u6e8C81X3lPxYAjQItw1/EjwWuRjiGcMZhBhnFsET7RBHDiMMwApMCtcKVwysDp4R6RRAGFkb7R3IH8Yg2SAIIHAePxytGfsWZhQoEm4QVg/qDiYP8Q8lEZQSCRRQFTkWoBZqFpAVFBQLEpIP0QzxCR4HfAQqAjoAtf6P/bv8F/yD+9L63vl3+IH2zPND8IHrT+UT3lHWus77x7jCcL95vu6/tsOBydfQHtmv4eLpIfHy9gb7Of2a/WH87vm59knzI/DD7YfssOxY7nPxzfUY++0A3gZ5DFkRLRW/F/oY6RiyF5oV9BIcEHANRAvbCWEJ6QlqC8MNvBASFHcXnhpDHS0fOSBXII8f/B3NGzsZhRbrE6gR6Q/MDl4OmQ5mD58QFRKTE+MU1xVIFhsWSBXSE8wRVA+SDK8J2AYyBN0B6v9i/jz9aPzH+zj7jPqf+T/4T/ag8xzwXust5fLdL9aWztTHj8JDv0q+vb+Ew1DJqNDx2IbhvekB8db27vok/Yj9UPzd+af2NfMO8KvtbeyU7DvuVfGw9fz60wDGBmQMRxEeFbMX8BjfGKoXkhXqEhIQZA03C8wJUQnYCVgLsQ2rEAMUaReSGjkdJR8yIFIgih/4HckbNhl/FuUToBHgD8IOVA6ODlsPlRAMEooT3BTRFUMWGBZGFdATyhFSD5AMrAnVBi4E2AHl/1z+Nf1i/MH7MvuH+pr5PPhN9p7zG/Bd6y3l8d0u1pXO0seMwkG/R765v4DDTMmk0O7Yg+G76f/w1fbt+iT9h/1Q/N35p/Y18w3wqe1r7JLsOe5S8a31+vrRAMQGYgxGER0VshfwGN8YqheSFeoSEhBkDTYLywlQCdYJVwuvDaoQARRoF5EaOB0lHzIgUiCKH/kdyRs2GX8W5ROgEeAPwQ5TDo0OWg+UEAsSihPcFNEVQxYYFkYV0BPKEVIPkAysCdUGLgTXAeT/W/41/WH8wPsy+4f6mvk8+E32nvMb8F3rLeXy3S7Wlc7Sx4zCQL9Gvri/gMNLyaPQ7diD4bvp//DV9u36JP2I/VD83fmn9jXzDfCp7Wvskuw47lLxrfX6+tEAxAZiDEYRHRWyF/AY4BiqF5IV6xISEGQNNgvLCU8J1glXC68NqhABFGgXkRo4HSUfMiBSIIsf+R3JGzYZfxblE6AR4A/BDlMOjQ5aD5QQCxKKE9wU0RVDFhgWRhXQE8oRUg+QDK0J1QYuBNcB5P9b/jX9YfzA+zH7h/qa+Tz4Tfae8xvwXest5fLdLtaVztLHjMJAv0a+uL+Aw0vJo9Dt2IPhu+n/8NX27fok/Yj9UPzd+af2NfMN8Knta+yS7DjuUvGt9fr60QDEBmIMRhEdFbIX8BjgGKoXkhXrEhIQZA02C8sJTwnWCVYLrw2qEAEUaBeRGjgdJR8yIFIgix/5HckbNhl/FuUToBHgD8EOUw6NDloPlBALEooT3BTRFUMWGBZGFdATyhFSD5AMrQnVBi4E1wHk/1v+Nf1h/MD7MfuH+pr5PPhN9p7zG/Bd6y3l8t0u1pXO0seMwkC/Rr64v4DDS8mj0O3Yg+G76f/w1fbt+iT9iP1Q/N35p/Y18w3wqe1r7JLsOO5S8a31+vrRAMQGYgxGER0VshfwGOAYqheSFesSEhBkDTYLywlPCdYJVguvDaoQARRoF5EaOB0lHzIgUiCLH/kdyRs2GX8W5ROgEd8PwQ5TDo0OWg+UEAsSihPcFNEVQxYYFkYV0BPKEVIPkAytCdUGLgTXAeT/W/41/WH8wPsx+4f6mvk8+E32nvMb8F3rLeXy3S7Wlc7Sx4zCQL9Gvri/gMNLyaPQ7diD4bvp//DV9u36JP2I/VD83fmn9jXzDfCp7Wvskuw47lLxrfX6+tEAxAZiDEYRHRWyF/AY4BiqF5IV6xISEGQNNgvLCU8J1glWC68NqhABFGgXkRo4HSUfMiBSIIsf+R3JGzYZfxblE6AR3w/BDlMOjQ5aD5QQCxKKE9wU0RVDFhgWRhXQE8oRUg+QDK0J1QYuBNcB5P9b/jX9YfzA+zH7h/qa+Tz4Tfae8xvwXest5fLdLtaVztLHjMJAv0a+uL+Aw0vJo9Dt2IPhu+n/8NX27fok/Yj9UPzd+af2NfMN8Knta+yS7DjuUvGt9fr60QDEBmIMRhEdFbIX8BjgGKoXkhXrEhIQZA02C8sJTwnWCVYLrw2qEAEUaBeRGjgdJR8yIFIgix/5HckbNhl/FuUToBHfD8EOUw6NDloPlBALEooT3BTRFUMWGBZGFdATyhFSD5AMrQnVBi4E1wHk/1v+Nf1h/MD7MfuH+pr5PPhN9p7zG/Bd6y3l8t0u1pXO0seMwkC/Rr64v4DDS8mj0O3Yg+G76f/w1fbt+iT9iP1Q/N35p/Y18w3wqe1r7JLsOO5S8a31+vrRAMQGYgxGER0VshfwGOAYqheSFesSEhBkDTYLywlPCdYJVguvDaoQARRoF5EaOB0lHzIgUiCLH/kdyRs2GX8W5ROgEd8PwQ5TDo0OWg+UEAsSihPcFNEVQxYYFkYV0BPKEVIPkAytCdUGLgTXAeT/W/41/WH8wPsx+4f6mvk8+E32nvMb8F3rLeXy3S7Wlc7Sx4zCQL9Gvri/gMNLyaPQ7diD4bvp//DV9u36JP2I/VD83fmn9jXzDfCp7Wvskuw47lLxrfX6+tEAxAZiDEYRHRWyF/AY4BiqF5IV6xISEGQNNgvLCU8J1glWC68NqhABFGgXkRo4HSUfMiBSIIsf+R3JGzYZfxblE6AR3w/BDlMOjQ5aD5QQCxKKE9wU0RVDFhgWRhXQE8oRUg+QDK0J1QYuBNcB5P9b/jX9YfzA+zH7h/qa+Tz4Tfae8xvwXest5fLdLtaVztLHjMJAv0a+uL+Aw0vJo9Dt2IPhu+n/8NX27fok/Yj9UPzd+af2NfMN8Knta+yS7DjuUvGt9fr60QDEBmIMRhEdFbIX8BjgGKoXkhXrEhIQZA02C8sJTwnWCVYLrw2qEAEUaBeRGjgdJR8yIFIgix/5HckbNhl/FuUToBHfD8EOUw6NDloPlBALEooT3BTRFUMWGBZGFdATyhFSD5AMrQnVBi4E1wHk/1v+Nf1h/MD7MfuH+pr5PPhN9p7zG/Bd6y3l8t0u1pXO0seMwkC/Rr64v4DDS8mj0O3Yg+G76f/w1fbt+iT9iP1Q/N35p/Y18w3wqe1r7JLsOO5S8a31+vrRAMQGYgxGER0VshfwGOAYqheSFesSEhBkDTYLywlPCdYJVguvDaoQARRoF5EaOB0lHzIgUiCLH/kdyRs2GX8W5ROgEd8PwQ5TDo0OWg+UEAsSihPcFNEVQxYYFkYV0BPKEVIPkAytCdUGLgTXAeT/W/41/WH8wPsx+4f6mvk8+E32nvMb8F3rLeXy3S7Wlc7Sx4zCQL9Gvri/gMNLyaPQ7diD4bvp//DV9u36JP2I/VD83fmn9jXzDfCp7Wvskuw47lLxrfX6+tEAxAZiDEYRHRWyF/AY4BiqF5IV6xISEGQNNgvLCU8J1glWC68NqhABFGgXkRo4HSUfMiBSIIsf+R3JGzYZfxblE6AR3w/BDlMOjQ5aD5QQCxKKE9wU0RVDFhgWRhXQE8oRUg+QDK0J1QYuBNcB5P9b/jX9YfzA+zH7h/qa+Tz4Tfae8xvwXest5fLdLtaVztLHjMJAv0a+uL+Aw0vJo9Dt2IPhu+n/8NX27fok/Yj9UPzd+af2NfMN8Knta+yS7DjuUvGt9fr60QDEBmIMRhEdFbIX8BjgGKoXkhXrEhIQZA02C8sJTwnWCVYLrw2qEAEUaBeRGjgdJR8yIFIgix/5HckbNhl/FuUToBHfD8EOUw6NDloPlBALEooT3BTRFUMWGBZGFdATyhFSD5AMrQnVBi4E1wHk/1v+Nf1h/MD7MfuH+pr5PPhN9p7zG/Bd6y3l8t0u1pXO0seMwkC/Rr64v4DDS8mj0O3Yg+G76f/w1fbt+iT9iP1Q/N35p/Y18w3wqe1r7JLsOO5S8a31+vrRAMQGYgxGER0VshfwGOAYqheSFesSEhBkDTYLywlPCdYJVguvDaoQARRoF5EaOB0lHzIgUiCLH/kdyRs2GX8W5ROgEd8PwQ5TDo0OWg+UEAsSihPcFNEVQxYYFkYV0BPKEVIPkAytCdUGLgTXAeT/W/41/WH8wPsx+4f6mvk8+E32nvMb8F3rLeXy3S7Wlc7Sx4zCQL9Gvri/gMNLyaPQ7diD4bvp//DV9u36JP2I/VD83fmn9jXzDfCp7Wvskuw47lLxrfX6+tEAxAZiDEYRHRWyF/AY4BiqF5IV6xISEGQNNgvLCU8J1glWC68NqhABFGgXkRo4HSUfMiBSIIsf+R3JGzYZfxblE6AR3w/BDlMOjQ5aD5QQCxKKE9wU0RVDFhgWRhXQE8oRUg+QDK0J1QYuBNcB5P9b/jX9YfzA+zH7h/qa+Tz4Tfae8xvwXest5fLdLtaVztLHjMJAv0a+uL+Aw0vJo9Dt2IPhu+n/8NX27fok/Yj9UPzd+af2NfMN8Knta+yS7DjuUvGt9fr60QDEBmIMRhEdFbIX8BjgGKoXkhXrEhIQZA02C8sJTwnWCVYLrw2qEAEUaBeRGjgdJR8yIFIgix/5HckbNhl/FuUToBHfD8EOUw6NDloPlBALEooT3BTRFUMWGBZGFdATyhFSD5AMrQnVBi4E1wHk/1v+Nf1h/MD7MfuH+pr5PPhN9p7zG/Bd6y3l8t0u1pXO0seMwkC/Rr64v4DDS8mj0O3Yg+G76f/w1fbt+iT9iP1Q/N35p/Y18w3wqe1r7JLsOO5S8a31+vrRAMQGYgxGER0VshfwGOAYqheSFesSEhBkDTYLywlPCdYJVguvDaoQARRoF5EaOB0lHzIgUiCLH/kdyRs2GX8W5ROgEd8PwQ5TDo0OWg+UEAsSihPcFNEVQxYYFkYV0BPKEVIPkAytCdUGLgTXAeT/W/41/WH8wPsx+4f6mvk8+E32nvMb8F3rLeXy3S7Wlc7Sx4zCQL9Gvri/gMNLyaPQ7diD4bvp//DV9u36JP2I/VD83fmn9jXzDfCp7Wvskuw47lLxrfX6+tEAxAZiDEYRHRWyF/AY4BiqF5IV6xISEGQNNgvLCU8J1glWC68NqhABFGgXkRo4HSUfMiBSIIsf+R3JGzYZfxblE6AR3w/BDlMOjQ5aD5QQCxKKE9wU0RVDFhgWRhXQE8oRUg+QDK0J1QYuBNcB5P9b/jX9YfzA+zH7h/qa+Tz4Tfae8xvwXest5fLdLtaVztLHjMJAv0a+uL+Aw0vJo9Dt2IPhu+n/8NX27fok/Yj9UPzd+af2NfMN8Knta+yS7DjuUvGt9fr60QDEBmIMRhEdFbIX8BjgGKoXkhXrEhIQZA02C8sJTwnWCVYLrw2qEAEUaBeRGjgdJR8yIFIgix/5HckbNhl/FuUToBHfD8EOUw6NDloPlBALEooT3BTRFUMWGBZGFdATyhFSD5AMrQnVBi4E1wHk/1v+Nf1h/MD7MfuH+pr5PPhN9p7zG/Bd6y3l8t0u1pXO0seMwkC/Rr64v4DDS8mj0O3Yg+G76f/w1fbt+iT9iP1Q/N35p/Y18w3wqe1r7JLsOO5S8a31+vrRAMQGYgxGER0VshfwGOAYqheSFesSEhBkDTYLywlPCdYJVguvDaoQARRoF5EaOB0lHzIgUiCLH/kdyRs2GX8W5ROgEd8PwQ5TDo0OWg+UEAsSihPcFNEVQxYYFkYV0BPKEVIPkAytCdUGLgTXAeT/W/41/WH8wPsx+4f6mvk8+E32nvMb8F3rLeXy3S7Wlc7Sx4zCQL9Gvri/gMNLyaPQ7diD4bvp//DV9u36JP2I/VD83fmn9jXzDfCp7Wvskuw47lLxrfX6+tEAxAZiDEYRHRWyF/AY4BiqF5IV6xISEGQNNgvLCU8J1glWC68NqhABFGgXkRo4HSUfMiBSIIsf+R3JGzYZfxblE6AR3w/BDlMOjQ5aD5QQCxKKE9wU0RVDFhgWRhXQE8oRUg+QDK0J1QYuBNcB5P9b/jX9YfzA+zH7h/qa+Tz4Tfae8xvwXest5fLdLtaVztLHjMJAv0a+uL+Aw0vJo9Dt2IPhu+n/8NX27fok/Yj9UPzd+af2NfMN8Knta+yS7DjuUvGt9fr60QDEBmIMRhEdFbIX8BjgGKoXkhXrEhIQZA02C8sJTwnWCVYLrw2qEAEUaBeRGjgdJR8yIFIgix/5HckbNhl/FuUToBHfD8EOUw6NDloPlBALEooT3BTRFUMWGBZGFdATyhFSD5AMrQnVBi4E1wHk/1v+Nf1h/MD7MfuH+pr5PPhN9p7zG/Bd6y3l8t0u1pXO0seMwkC/Rr64v4DDS8mj0O3Yg+G76f/w1fbt+iT9iP1Q/N35p/Y18w3wqe1r7JLsOO5S8a31+vrRAMQGYgxGER0VshfwGOAYqheSFesSEhBkDTYLywlPCdYJVguvDaoQARRoF5EaOB0lHzIgUiCLH/kdyRs2GX8W5ROgEd8PwQ5TDo0OWg+UEAsSihPcFNEVQxYYFkYV0BPKEVIPkAytCdUGLgTXAeT/W/41/WH8wPsx+4f6mvk8+E32nvMb8F3rLeXy3S7Wlc7Sx4zCQL9Gvri/gMNLyaPQ7diD4bvp//DV9u36JP2I/VD83fmn9jXzDfCp7Wvskuw47lLxrfX6+tEAxAZiDEYRHRWyF/AY4BiqF5IV6xISEGQNNgvLCU8J1glWC68NqhABFGgXkRo4HSUfMiBSIIsf+R3JGzYZfxblE6AR3w/BDlMOjQ5aD5QQCxKKE9wU0RVDFhgWRhXQE8oRUg+QDK0J1QYuBNcB5P9b/jX9YfzA+zH7h/qa+Tz4Tfae8xvwXest5fLdLtaVztLHjMJAv0a+uL+Aw0vJo9Dt2IPhu+n/8NX27fok/Yj9UPzd+af2NfMN8Knta+yS7DjuUvGt9fr60QDEBmIMRhEdFbIX8BjgGKoXkhXrEhIQZA02C8sJTwnWCVYLrw2qEAEUaBeRGjgdJR8yIFIgix/5HckbNhl/FuUToBHfD8EOUw6NDloPlBALEooT3BTRFUMWGBZGFdATyhFSD5AMrQnVBi4E1wHk/1v+Nf1h/MD7MfuH+pr5PPhN9p7zG/Bd6y3l8t0u1pXO0seMwkC/Rr64v4DDS8mj0O3Yg+G76f/w1fbt+iT9iP1Q/N35p/Y18w3wqe1r7JLsOO5S8a31+vrRAMQGYgxGER0VshfwGOAYqheSFesSEhBkDTYLywlPCdYJVguvDaoQARRoF5EaOB0lHzIgUiCLH/kdyRs2GX8W5ROgEd8PwQ5TDo0OWg+UEAsSihPcFNEVQxYYFkYV0BPKEVIPkAytCdUGLgTXAeT/W/41/WH8wPsx+4f6mvk8+E32nvMb8F3rLeXy3S7Wlc7Sx4zCQL9Gvri/gMNLyaPQ7diD4bvp//DV9u36JP2I/VD83fmn9jXzDfCp7Wvskuw47lLxrfX6+tEAxAZiDEYRHRWyF/AY4BiqF5IV6xISEGQNNgvLCU8J1glWC68NqhABFGgXkRo4HSUfMiBSIIsf+R3JGzYZfxblE6AR3w/BDlMOjQ5aD5QQCxKKE9wU0RVDFhgWRhXQE8oRUg+QDK0J1QYuBNcB5P9b/jX9YfzA+zH7h/qa+Tz4Tfae8xvwXest5fLdLtaVztLHjMJAv0a+uL+Aw0vJo9Dt2IPhu+n/8NX27fok/Yj9UPzd+af2NfMN8Knta+yS7DjuUvGt9fr60QDEBmIMRhEdFbIX8BjgGKoXkhXrEhIQZA02C8sJTwnWCVYLrw2qEAEUaBeRGjgdJR8yIFIgix/5HckbNhl/FuUToBHfD8EOUw6NDloPlBALEooT3BTRFUMWGBZGFdATyhFSD5AMrQnVBi4E1wHk/1v+Nf1h/MD7MfuH+pr5PPhN9p7zG/Bd6y3l8t0u1pXO0seMwkC/Rr64v4DDS8mj0O3Yg+G76f/w1fbt+iT9iP1Q/N35p/Y18w3wqe1r7JLsOO5S8a31+vrRAMQGYgxGER0VshfwGOAYqheSFesSEhBkDTYLywlPCdYJVguvDaoQARRoF5EaOB0lHzIgUiCLH/kdyRs2GX8W5ROgEd8PwQ5TDo0OWg+UEAsSihPcFNEVQxYYFkYV0BPKEVIPkAytCdUGLgTXAeT/W/41/WH8wPsx+4f6mvk8+E32nvMb8F3rLeXy3S7Wlc7Sx4zCQL9Gvri/gMNLyaPQ7diD4bvp//DV9u36JP2I/VD83fmn9jXzDfCp7Wvskuw47lLxrfX6+tEAxAZiDEYRHRWyF/AY4BiqF5IV6xISEGQNNgvLCU8J1glWC68NqhABFGgXkRo4HSUfMiBSIIsf+R3JGzYZfxblE6AR3w/BDlMOjQ5aD5QQCxKKE9wU0RVDFhgWRhXQE8oRUg+QDK0J1QYuBNcB5P9b/jX9YfzA+zH7h/qa+Tz4Tfae8xvwXest5fLdLtaVztLHjMJAv0a+uL+Aw0vJo9Dt2IPhu+n/8NX27fok/Yj9UPzd+af2NfMN8Knta+yS7DjuUvGt9fr60QDEBmIMRhEdFbIX8BjgGKoXkhXrEhIQZA02C8sJTwnWCVYLrw2qEAEUaBeRGjgdJR8yIFIgix/5HckbNhl/FuUToBHfD8EOUw6NDloPlBALEooT3BTRFUMWGBZGFdATyhFSD5AMrQnVBi4E1wHk/1v+Nf1h/MD7MfuH+pr5PPhN9p7zG/Bd6y3l8t0u1pXO0seMwkC/Rr64v4DDS8mj0O3Yg+G76f/w1fbt+iT9iP1Q/N35p/Y18w3wqe1r7JLsOO5S8a31+vrRAMQGYgxGER0VshfwGOAYqheSFesSEhBkDTYLywlPCdYJVguvDaoQARRoF5EaOB0lHzIgUiCLH/kdyRs2GX8W5ROgEd8PwQ5TDo0OWg+UEAsSihPcFNEVQxYYFkYV0BPKEVIPkAytCdUGLgTXAeT/W/41/WH8wPsx+4f6mvk8+E32nvMb8F3rLeXy3S7Wlc7Sx4zCQL9Gvri/gMNLyaPQ7diD4bvp//DV9u36JP2I/VD83fmn9jXzDfCp7Wvskuw47lLxrfX6+tEAxAZiDEYRHRWyF/AY4BiqF5IV6xISEGQNNgvLCU8J1glWC68NqhABFGgXkRo4HSUfMiBSIIsf+R3JGzYZfxblE6AR3w/BDlMOjQ5aD5QQCxKKE9wU0RVDFhgWRhXQE8oRUg+QDK0J1QYuBNcB5P9b/jX9YfzA+zH7h/qa+Tz4Tfae8xvwXest5fLdLtaVztLHjMJAv0a+uL+Aw0vJo9Dt2IPhu+n/8NX27fok/Yj9UPzd+af2NfMN8Knta+yS7DjuUvGt9fr60QDEBmIMRhEdFbIX8BjgGKoXkhXrEhIQZA02C8sJTwnWCVYLrw2qEAEUaBeRGjgdJR8yIFIgix/5HckbNhl/FuUToBHfD8EOUw6NDloPlBALEooT3BTRFUMWGBZGFdATyhFSD5AMrQnVBi4E1wHk/1v+Nf1h/MD7MfuH+pr5PPhN9p7zG/Bd6y3l8t0u1pXO0seMwkC/Rr64v4DDS8mj0O3Yg+G76f/w1fbt+iT9iP1Q/N35p/Y18w3wqe1r7JLsOO5S8a31+vrRAMQGYgxGER0VshfwGOAYqheSFesSEhBkDTYLywlPCdYJVguvDaoQARRoF5EaOB0lHzIgUiCLH/kdyRs2GX8W5ROgEd8PwQ5TDo0OWg+UEAsSihPcFNEVQxYYFkYV0BPKEVIPkAytCdUGLgTXAeT/W/41/WH8wPsx+4f6mvk8+E32nvMb8F3rLeXy3S7Wlc7Sx4zCQL9Gvri/gMNLyaPQ7diD4bvp//DV9u36JP2I/VD83fmn9jXzDfCp7Wvskuw47lLxrfX6+tEAxAZiDEYRHRWyF/AY4BiqF5IV6xISEGQNNgvLCU8J1glWC68NqhABFGgXkRo4HSUfMiBSIIsf+R3JGzYZfxblE6AR3w/BDlMOjQ5aD5QQCxKKE9wU0RVDFhgWRhXQE8oRUg+QDK0J1QYuBNcB5P9b/jX9YfzA+zH7h/qa+Tz4Tfae8xvwXest5fLdLtaVztLHjMJAv0a+uL+Aw0vJo9Dt2IPhu+n/8NX27fok/Yj9UPzd+af2NfMN8Knta+yS7DjuUvGt9fr60QDEBmIMRhEdFbIX8BjgGKoXkhXrEhIQZA02C8sJTwnWCVYLrw2qEAEUaBeRGjgdJR8yIFIgix/5HckbNhl/FuUToBHfD8EOUw6NDloPlBALEooT3BTRFUMWGBZGFdATyhFSD5AMrQnVBi4E1wHk/1v+Nf1h/MD7MfuH+pr5PPhN9p7zG/Bd6y3l8t0u1pXO0seMwkC/Rr64v4DDS8mj0O3Yg+G76f/w1fbt+iT9iP1Q/N35p/Y18w3wqe1r7JLsOO5S8a31+vrRAMQGYgxGER0VshfwGOAYqheSFesSEhBkDTYLywlPCdYJVguvDaoQARRoF5EaOB0lHzIgUiCLH/kdyRs2GX8W5ROgEd8PwQ5TDo0OWg+UEAsSihPcFNEVQxYYFkYV0BPKEVIPkAytCdUGLgTXAeT/W/41/WH8wPsx+4f6mvk8+E32nvMb8F3rLeXy3S7Wlc7Sx4zCQL9Gvri/gMNLyaPQ7diD4bvp//DV9u36JP2I/VD83fmn9jXzDfCp7Wvskuw47lLxrfX6+tEAxAZiDEYRHRWyF/AY4BiqF5IV6xISEGQNNgvLCU8J1glWC68NqhABFGgXkRo4HSUfMiBSIIsf+R3JGzYZfxblE6AR3w/BDlMOjQ5aD5QQCxKKE9wU0RVDFhgWRhXQE8oRUg+QDK0J1QYuBNcB5P9b/jX9YfzA+zH7h/qa+Tz4Tfae8xvwXest5fLdLtaVztLHjMJAv0a+uL+Aw0vJo9Dt2IPhu+n/8NX27fok/Yj9UPzd+af2NfMN8Knta+yS7DjuUvGt9fr60QDEBmIMRhEdFbIX8BjgGKoXkhXrEhIQZA02C8sJTwnWCVYLrw2qEAEUaBeRGjgdJR8yIFIgix/5HckbNhl/FuUToBHfD8EOUw6NDloPlBALEooT3BTRFUMWGBZGFdATyhFSD5AMrQnVBi4E1wHk/1v+Nf1h/MD7MfuH+pr5PPhN9p7zG/Bd6y3l8t0u1pXO0seMwkC/Rr64v4DDS8mj0O3Yg+G76f/w1fbt+iT9iP1Q/N35p/Y18w3wqe1r7JLsOO5S8a31+vrRAMQGYgxGER0VshfwGOAYqheSFesSEhBkDTYLywlPCdYJVguvDaoQARRoF5EaOB0lHzIgUiCLH/kdyRs2GX8W5ROgEd8PwQ5TDo0OWg+UEAsSihPcFNEVQxYYFkYV0BPKEVIPkAytCdUGLgTXAeT/W/41/WH8wPsx+4f6mvk8+E32nvMb8F3rLeXy3S7Wlc7Sx4zCQL9Gvri/gMNLyaPQ7diD4bvp//DV9u36JP2I/VD83fmn9jXzDfCp7Wvskuw47lLxrfX6+tEAxAZiDEYRHRWyF/AY4BiqF5IV6xISEGQNNgvLCU8J1glWC68NqhABFGgXkRo4HSUfMiBSIIsf+R3JGzYZfxblE6AR3w/BDlMOjQ5aD5QQCxKKE9wU0RVDFhgWRhXQE8oRUg+QDK0J1QYuBNcB5P9b/jX9YfzA+zH7h/qa+Tz4Tfae8xvwXest5fLdLtaVztLHjMJAv0a+uL+Aw0vJo9Dt2IPhu+n/8NX27fok/Yj9UPzd+af2NfMN8Knta+yS7DjuUvGt9fr60QDEBmIMRhEdFbIX8BjgGKoXkhXrEhIQZA02C8sJTwnWCVYLrw2qEAEUaBeRGjgdJR8yIFIgix/5HckbNhl/FuUToBHfD8EOUw6NDloPlBALEooT3BTRFUMWGBZGFdATyhFSD5AMrQnVBi4E1wHk/1v+Nf1h/MD7MfuH+pr5PPhN9p7zG/Bd6y3l8t0u1pXO0seMwkC/Rr64v4DDS8mj0O3Yg+G76f/w1fbt+iT9iP1Q/N35p/Y18w3wqe1r7JLsOO5S8a31+vrRAMQGYgxGER0VshfwGOAYqheSFesSEhBkDTYLywlPCdYJVguvDaoQARRoF5EaOB0lHzIgUiCLH/kdyRs2GX8W5ROgEd8PwQ5TDo0OWg+UEAsSihPcFNEVQxYYFkYV0BPKEVIPkAytCdUGLgTXAeT/W/41/WH8wPsx+4f6mvk8+E32nvMb8F3rLeXy3S7Wlc7Sx4zCQL9Gvri/gMNLyaPQ7diD4bvp//DV9u36JP2I/VD83fmn9jXzDfCp7Wvskuw47lLxrfX6+tEAxAZiDEYRHRWyF/AY4BiqF5IV6xISEGQNNgvLCU8J1glWC68NqhABFGgXkRo4HSUfMiBSIIsf+R3JGzYZfxblE6AR3w/BDlMOjQ5aD5QQCxKKE9wU0RVDFhgWRhXQE8oRUg+QDK0J1QYuBNcB5P9b/jX9YfzA+zH7h/qa+Tz4Tfae8xvwXest5fLdLtaVztLHjMJAv0a+uL+Aw0vJo9Dt2IPhu+n/8NX27fok/Yj9UPzd+af2NfMN8Knta+yS7DjuUvGt9fr60QDEBmIMRhEdFbIX8BjgGKoXkhXrEhIQZA02C8sJTwnWCVYLrw2qEAEUaBeRGjgdJR8yIFIgix/5HckbNhl/FuUToBHfD8EOUw6NDloPlBALEooT3BTRFUMWGBZGFdATyhFSD5AMrQnVBi4E1wHk/1v+Nf1h/MD7MfuH+pr5PPhN9p7zG/Bd6y3l\" type=\"audio/wav\" />\n",
       "                    Your browser does not support the audio element.\n",
       "                </audio>\n",
       "              "
      ],
      "text/plain": [
       "<IPython.lib.display.Audio object>"
      ]
     },
     "execution_count": 27,
     "metadata": {},
     "output_type": "execute_result"
    }
   ],
   "source": [
    "RG = 500\n",
    "BWG = 60\n",
    "a, b=resonance(sr,RG,BWG)\n",
    "s = lfilter(b, a, s, axis=0)     # 위의 s를 사용\n",
    "ipd.Audio(s, rate=sr)"
   ]
  },
  {
   "cell_type": "code",
   "execution_count": 28,
   "metadata": {},
   "outputs": [
    {
     "data": {
      "text/html": [
       "\n",
       "                <audio  controls=\"controls\" >\n",
       "                    <source src=\"data:audio/wav;base64,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\" type=\"audio/wav\" />\n",
       "                    Your browser does not support the audio element.\n",
       "                </audio>\n",
       "              "
      ],
      "text/plain": [
       "<IPython.lib.display.Audio object>"
      ]
     },
     "execution_count": 28,
     "metadata": {},
     "output_type": "execute_result"
    }
   ],
   "source": [
    "RG = 1500\n",
    "BWG = 200\n",
    "a, b=resonance(sr,RG,BWG)\n",
    "s = lfilter(b, a, s, axis=0)\n",
    "ipd.Audio(s, rate=sr)"
   ]
  },
  {
   "cell_type": "code",
   "execution_count": 29,
   "metadata": {},
   "outputs": [
    {
     "data": {
      "text/html": [
       "\n",
       "                <audio  controls=\"controls\" >\n",
       "                    <source src=\"data:audio/wav;base64,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\" type=\"audio/wav\" />\n",
       "                    Your browser does not support the audio element.\n",
       "                </audio>\n",
       "              "
      ],
      "text/plain": [
       "<IPython.lib.display.Audio object>"
      ]
     },
     "execution_count": 29,
     "metadata": {},
     "output_type": "execute_result"
    }
   ],
   "source": [
    "RG = 2500\n",
    "BWG = 200\n",
    "a, b=resonance(sr,RG,BWG)\n",
    "s = lfilter(b, a, s, axis=0)\n",
    "ipd.Audio(s, rate=sr)"
   ]
  },
  {
   "cell_type": "code",
   "execution_count": 30,
   "metadata": {},
   "outputs": [
    {
     "data": {
      "text/html": [
       "\n",
       "                <audio  controls=\"controls\" >\n",
       "                    <source src=\"data:audio/wav;base64,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\" type=\"audio/wav\" />\n",
       "                    Your browser does not support the audio element.\n",
       "                </audio>\n",
       "              "
      ],
      "text/plain": [
       "<IPython.lib.display.Audio object>"
      ]
     },
     "execution_count": 30,
     "metadata": {},
     "output_type": "execute_result"
    }
   ],
   "source": [
    "RG = 3500\n",
    "BWG = 200\n",
    "a, b=resonance(sr,RG,BWG)\n",
    "s = lfilter(b, a, s, axis=0)\n",
    "ipd.Audio(s, rate=sr)     # 입술이 없는 상태"
   ]
  },
  {
   "cell_type": "code",
   "execution_count": 31,
   "metadata": {},
   "outputs": [
    {
     "data": {
      "text/html": [
       "\n",
       "                <audio  controls=\"controls\" >\n",
       "                    <source src=\"data:audio/wav;base64,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\" type=\"audio/wav\" />\n",
       "                    Your browser does not support the audio element.\n",
       "                </audio>\n",
       "              "
      ],
      "text/plain": [
       "<IPython.lib.display.Audio object>"
      ]
     },
     "execution_count": 31,
     "metadata": {},
     "output_type": "execute_result"
    }
   ],
   "source": [
    "s = lfilter(np.array([1, -1]), np.array([1]), s)\n",
    "ipd.Audio(s, rate=sr)     # 입술이 있는 상태"
   ]
  },
  {
   "cell_type": "markdown",
   "metadata": {},
   "source": [
    "Sound _ Load Wav"
   ]
  },
  {
   "cell_type": "code",
   "execution_count": 32,
   "metadata": {},
   "outputs": [],
   "source": [
    "nSamp = len(s)     # inner product를 하기 위해서는 같은 sample의 개수 필요\n",
    "dur = nSamp / sr\n",
    "t = np.linspace(1/sr, dur, nSamp)"
   ]
  },
  {
   "cell_type": "code",
   "execution_count": 33,
   "metadata": {},
   "outputs": [],
   "source": [
    "nFFT = nSamp\n",
    "amp = [];\n",
    "for n in range(0,nFFT):     # sample의 개수만큼 loop\n",
    "    omega = 2*np.pi*n/nFFT\n",
    "    z = np.exp(omega*1j)**(np.arange(0,nSamp))     #(e^wi)^(0...100) / 1st loop > 0 / 2nd loop > 1바퀴 / 3rd loop > 2바퀴 ...\n",
    "    amp.append(np.abs(np.dot(s,z)))     # s(original signal)과 z를 inner product > absolute(절대값) / amp의 길이 = loop의 횟수"
   ]
  },
  {
   "cell_type": "code",
   "execution_count": 34,
   "metadata": {},
   "outputs": [
    {
     "data": {
      "text/plain": [
       "Text(0, 0.5, 'amplitude')"
      ]
     },
     "execution_count": 34,
     "metadata": {},
     "output_type": "execute_result"
    },
    {
     "data": {
      "image/png": "[encoded data removed]",
      "text/plain": [
       "<Figure size 432x288 with 1 Axes>"
      ]
     },
     "metadata": {
      "needs_background": "light"
     },
     "output_type": "display_data"
    }
   ],
   "source": [
    "fig = plt.figure()\n",
    "ax = fig.add_subplot(111)\n",
    "freq = np.arange(1,nFFT+1)*sr/nFFT;\n",
    "ax.plot(freq, amp)\n",
    "ax.set_xlabel('frequency (Hz)')\n",
    "ax.set_ylabel('amplitude')\n",
    "# 대칭 그래프(spectrum): nyquist frequency의 이유와 같음\n",
    "# resonance와 관련됨"
   ]
  },
  {
   "cell_type": "markdown",
   "metadata": {},
   "source": [
    "Sound _ Define Helper Function"
   ]
  },
  {
   "cell_type": "code",
   "execution_count": 36,
   "metadata": {},
   "outputs": [],
   "source": [
    "def frame_signal(signal, srate, win_size, win_step):\n",
    "    frame_size = int(win_size * srate)\n",
    "    frame_step = int(win_step * srate)\n",
    "\n",
    "    # Get number of frames\n",
    "    num_frames = int(np.ceil(np.abs(len(signal) - frame_size) / frame_step))\n",
    "    # Pad signal\n",
    "    pad_len = num_frames * frame_step + frame_size\n",
    "    pad = np.zeros((pad_len - len(signal)))\n",
    "    signal_padded = np.append(signal, pad)\n",
    "    # Get within-frame sample indices\n",
    "    idx1 = np.tile(np.arange(0, frame_size), (num_frames, 1))\n",
    "    # Get vectors of frame_step increments\n",
    "    idx2 = np.tile(np.arange(0, num_frames * frame_step, frame_step),\n",
    "                   (frame_size, 1)).T\n",
    "    # Get total indices divided by each frame\n",
    "    indices = idx1 + idx2\n",
    "    # Get frames divided by each frame based on indices\n",
    "    frames = signal_padded[indices.astype(np.int32, copy=False)]\n",
    "#     if cutoff is not None:\n",
    "#         cutoff_bin = round(cutoff * nfft / (srate))  # hz -> bin\n",
    "#         frames = frames[:, :cutoff_bin]\n",
    "    return frames\n",
    "\n",
    "def get_window(win_size, srate, win_type, win_samp=None):\n",
    "    '''Get window samples for win_size'''\n",
    "    if win_samp is None:\n",
    "        win_samp = int(win_size * srate)  # sec -> sample\n",
    "\n",
    "    if win_type == 'rect':\n",
    "        return np.kaiser(win_samp, 0)\n",
    "    elif win_type == 'hamming':\n",
    "        return np.hamming(win_samp)\n",
    "    elif win_type == 'hanning':\n",
    "        return np.hanning(win_samp)\n",
    "    elif win_type == 'kaiser':\n",
    "        return np.kaiser(win_samp, 14)\n",
    "    elif win_type == 'blackman':\n",
    "        return np.blackman(win_samp)\n",
    "\n",
    "def plot_spectrogram(S):\n",
    "    fig, ax = plt.subplots(facecolor='white', figsize=(14, 6))\n",
    "    im = ax.imshow(S.T, aspect='auto', origin='lower', cmap=plt.get_cmap('Greys'))\n",
    "    divider = make_axes_locatable(ax)\n",
    "    cax = divider.append_axes('right', size='5%', pad=0.05)\n",
    "    cbar = fig.colorbar(im, cax=cax)\n",
    "    return fig, ax\n",
    "\n",
    "def preemphasis(s, pre_emp=0.97):\n",
    "    # Emphasize high frequency range of the waveform by increasing power(squared amplitude).\n",
    "    s = lfilter([1, -pre_emp], [1], s)\n",
    "    return s"
   ]
  },
  {
   "cell_type": "markdown",
   "metadata": {},
   "source": [
    "Sound _ Processing Signal"
   ]
  },
  {
   "cell_type": "code",
   "execution_count": 37,
   "metadata": {},
   "outputs": [
    {
     "name": "stdout",
     "output_type": "stream",
     "text": [
      "frames: (492, 80)\n"
     ]
    }
   ],
   "source": [
    "max_freq = None  # cutoff freq\n",
    "win_size = 0.008     # 0.008초의 양의 vector를 analysis (sec)\n",
    "win_step = 0.001     # 0.001초 이동 후 analysis (sec)\n",
    "win_type = 'hanning' # options: 'rect', 'hamming', 'hanning', 'kaiser', 'blackman'\n",
    "nfft = 1024\n",
    "\n",
    "# Emphasize signal\n",
    "s = preemphasis(s)\n",
    "# Frame signal\n",
    "frames = frame_signal(s, sr, win_size, win_step)\n",
    "# Apply window function\n",
    "frames *= get_window(win_size, sr, win_type)\n",
    "print('frames:', frames.shape)"
   ]
  },
  {
   "cell_type": "code",
   "execution_count": 38,
   "metadata": {},
   "outputs": [
    {
     "data": {
      "text/plain": [
       "(<Figure size 1008x432 with 2 Axes>,\n",
       " <matplotlib.axes._subplots.AxesSubplot at 0x2ab34d294a8>)"
      ]
     },
     "execution_count": 38,
     "metadata": {},
     "output_type": "execute_result"
    },
    {
     "data": {
      "image/png": "[encoded data removed]",
      "text/plain": [
       "<Figure size 1008x432 with 2 Axes>"
      ]
     },
     "metadata": {},
     "output_type": "display_data"
    }
   ],
   "source": [
    "magspec = np.abs(np.fft.rfft(frames, n=nfft)) # frames x (nfft//2 + 1)\n",
    "plot_spectrogram(magspec)"
   ]
  },
  {
   "cell_type": "code",
   "execution_count": 39,
   "metadata": {},
   "outputs": [
    {
     "data": {
      "image/png": "[encoded data removed]",
      "text/plain": [
       "<Figure size 1008x432 with 2 Axes>"
      ]
     },
     "metadata": {},
     "output_type": "display_data"
    }
   ],
   "source": [
    "powspec = 1/nfft * (magspec**2)     # 1보다 작을 경우 더 작게, 1보다 클 경우 더 크게 (log를 취하기 위해서)\n",
    "plot_spectrogram(powspec);"
   ]
  },
  {
   "cell_type": "code",
   "execution_count": 40,
   "metadata": {},
   "outputs": [
    {
     "data": {
      "image/png": "[encoded data removed]",
      "text/plain": [
       "<Figure size 1008x432 with 2 Axes>"
      ]
     },
     "metadata": {},
     "output_type": "display_data"
    }
   ],
   "source": [
    "logspec = 10 * np.log10(magspec)     # log 값이 골고루 분포됨\n",
    "plot_spectrogram(logspec);"
   ]
  },
  {
   "cell_type": "code",
   "execution_count": null,
   "metadata": {},
   "outputs": [],
   "source": []
  }
 ],
 "metadata": {
  "kernelspec": {
   "display_name": "Python 3",
   "language": "python",
   "name": "python3"
  },
  "language_info": {
   "codemirror_mode": {
    "name": "ipython",
    "version": 3
   },
   "file_extension": ".py",
   "mimetype": "text/x-python",
   "name": "python",
   "nbconvert_exporter": "python",
   "pygments_lexer": "ipython3",
   "version": "3.7.3"
  }
 },
 "nbformat": 4,
 "nbformat_minor": 2
}
